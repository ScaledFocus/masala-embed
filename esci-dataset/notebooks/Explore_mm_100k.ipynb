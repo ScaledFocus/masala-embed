{
 "cells": [
  {
   "cell_type": "markdown",
   "id": "1913c9b2",
   "metadata": {},
   "source": [
    "# MM-Food-100K Dataset Exploration\n",
    "\n",
    "This notebook explores multiple food-related datasets to understand their structure, content, and potential for building the Query2Dish model:\n",
    "\n",
    "## Datasets Overview\n",
    "\n",
    "1. **MM-Food-100K**: 100,000 food images with rich metadata (dishes, ingredients, nutrition)\n",
    "2. **ESCI Food Dataset**: ESCI-labeled food query-image pairs with visual similarity scores\n",
    "3. **3A2M Recipe Dataset**: 2.2M recipes with ingredients, directions, and genre classifications\n",
    "4. **Cooking Queries**: 29K+ natural language food queries\n",
    "\n",
    "## Goals\n",
    "\n",
    "- Analyze the structure and quality of each dataset\n",
    "- Understand the relationships between queries, images, and recipes\n",
    "- Identify opportunities for ESCI framework adaptation to food domain\n",
    "- Assess datasets for training Query2Dish search model"
   ]
  },
  {
   "cell_type": "markdown",
   "id": "48fc81b5",
   "metadata": {},
   "source": [
    "## Setup and Data Loading\n",
    "\n",
    "### Import Libraries and Configuration"
   ]
  },
  {
   "cell_type": "code",
   "execution_count": 28,
   "id": "2716fe75",
   "metadata": {},
   "outputs": [],
   "source": [
    "import os\n",
    "\n",
    "import pandas as pd\n",
    "\n",
    "pd.set_option(\"display.max_columns\", None)\n",
    "pd.set_option(\"display.max_colwidth\", None)\n",
    "pd.set_option(\"display.width\", 0)"
   ]
  },
  {
   "cell_type": "markdown",
   "id": "5c580a8f",
   "metadata": {},
   "source": [
    "### Dataset Files Discovery\n",
    "\n",
    "Let's examine what food-related datasets are available in our data directory."
   ]
  },
  {
   "cell_type": "code",
   "execution_count": 10,
   "id": "91ce2c1d",
   "metadata": {},
   "outputs": [],
   "source": [
    "# list in data folder\n",
    "data_folder = \"/Users/luvsuneja/Documents/repos/masala-embed/esci-dataset/data\""
   ]
  },
  {
   "cell_type": "code",
   "execution_count": 29,
   "id": "bcdc5c7a",
   "metadata": {},
   "outputs": [
    {
     "name": "stdout",
     "output_type": "stream",
     "text": [
      "['shopping_queries_dataset_examples.parquet', 'shopping_queries_dataset_products.parquet', 'shopping_queries_dataset_sources.csv', 'ESCI_MM-Food-100K_Example__preview_.csv', 'MM-Food-100K.csv', '3A2M.csv', 'cooking_queries_all.txt']\n"
     ]
    }
   ],
   "source": [
    "# print all files in data folder\n",
    "print(os.listdir(data_folder))"
   ]
  },
  {
   "cell_type": "markdown",
   "id": "rhfgmd40kab",
   "metadata": {},
   "source": [
    "We can see several food-related datasets:\n",
    "\n",
    "**Food-specific datasets:**\n",
    "- `MM-Food-100K.csv` - Main food images dataset\n",
    "- `ESCI_MM-Food-100K_Example__preview_.csv` - ESCI-labeled food examples\n",
    "- `3A2M.csv` - Recipe dataset with 2M+ recipes\n",
    "- `cooking_queries_all.txt` - Natural language food queries\n",
    "\n",
    "**Original ESCI datasets:**\n",
    "- `shopping_queries_dataset_*` - Original Amazon ESCI data for comparison"
   ]
  },
  {
   "cell_type": "code",
   "execution_count": 12,
   "id": "e0b20193",
   "metadata": {},
   "outputs": [],
   "source": [
    "# read 'cooking_queries_all.txt'\n",
    "df_queries = pd.read_csv(\n",
    "    os.path.join(data_folder, \"cooking_queries_all.txt\"),\n",
    "    sep=\"\\t\",\n",
    "    header=None,\n",
    "    names=[\"query\"],\n",
    ")"
   ]
  },
  {
   "cell_type": "markdown",
   "id": "u3t3fzodb7l",
   "metadata": {},
   "source": [
    "## 1. Cooking Queries Dataset\n",
    "\n",
    "First, let's explore the natural language cooking queries to understand what users search for."
   ]
  },
  {
   "cell_type": "code",
   "execution_count": 30,
   "id": "6a929f19",
   "metadata": {},
   "outputs": [
    {
     "data": {
      "text/html": [
       "<div>\n",
       "<style scoped>\n",
       "    .dataframe tbody tr th:only-of-type {\n",
       "        vertical-align: middle;\n",
       "    }\n",
       "\n",
       "    .dataframe tbody tr th {\n",
       "        vertical-align: top;\n",
       "    }\n",
       "\n",
       "    .dataframe thead th {\n",
       "        text-align: right;\n",
       "    }\n",
       "</style>\n",
       "<table border=\"1\" class=\"dataframe\">\n",
       "  <thead>\n",
       "    <tr style=\"text-align: right;\">\n",
       "      <th></th>\n",
       "      <th>query</th>\n",
       "    </tr>\n",
       "  </thead>\n",
       "  <tbody>\n",
       "    <tr>\n",
       "      <th>3157</th>\n",
       "      <td>pumpkin pie spice recipe</td>\n",
       "    </tr>\n",
       "    <tr>\n",
       "      <th>7836</th>\n",
       "      <td>what is pico de gallo</td>\n",
       "    </tr>\n",
       "    <tr>\n",
       "      <th>28978</th>\n",
       "      <td>beef stroganoff recipe</td>\n",
       "    </tr>\n",
       "    <tr>\n",
       "      <th>17814</th>\n",
       "      <td>KFC Fried Chicken Secret Recipe</td>\n",
       "    </tr>\n",
       "    <tr>\n",
       "      <th>1552</th>\n",
       "      <td>what is red velvet cake</td>\n",
       "    </tr>\n",
       "  </tbody>\n",
       "</table>\n",
       "</div>"
      ],
      "text/plain": [
       "                                 query\n",
       "3157          pumpkin pie spice recipe\n",
       "7836             what is pico de gallo\n",
       "28978           beef stroganoff recipe\n",
       "17814  KFC Fried Chicken Secret Recipe\n",
       "1552           what is red velvet cake"
      ]
     },
     "execution_count": 30,
     "metadata": {},
     "output_type": "execute_result"
    }
   ],
   "source": [
    "df_queries.sample(5)"
   ]
  },
  {
   "cell_type": "code",
   "execution_count": 14,
   "id": "9b5b59e0",
   "metadata": {},
   "outputs": [],
   "source": [
    "# read mm-food-100k.csv\n",
    "df_mm_food = pd.read_csv(os.path.join(data_folder, \"mm-food-100k.csv\"))"
   ]
  },
  {
   "cell_type": "markdown",
   "id": "2vt8fkc49gm",
   "metadata": {},
   "source": [
    "## 2. MM-Food-100K Dataset\n",
    "\n",
    "This is the main food images dataset with 100,000 entries containing rich metadata about dishes, ingredients, nutrition, and cooking methods."
   ]
  },
  {
   "cell_type": "code",
   "execution_count": 31,
   "id": "0dac5db5",
   "metadata": {},
   "outputs": [
    {
     "data": {
      "text/html": [
       "<div>\n",
       "<style scoped>\n",
       "    .dataframe tbody tr th:only-of-type {\n",
       "        vertical-align: middle;\n",
       "    }\n",
       "\n",
       "    .dataframe tbody tr th {\n",
       "        vertical-align: top;\n",
       "    }\n",
       "\n",
       "    .dataframe thead th {\n",
       "        text-align: right;\n",
       "    }\n",
       "</style>\n",
       "<table border=\"1\" class=\"dataframe\">\n",
       "  <thead>\n",
       "    <tr style=\"text-align: right;\">\n",
       "      <th></th>\n",
       "      <th>image_url</th>\n",
       "      <th>camera_or_phone_prob</th>\n",
       "      <th>food_prob</th>\n",
       "      <th>dish_name</th>\n",
       "      <th>food_type</th>\n",
       "      <th>ingredients</th>\n",
       "      <th>portion_size</th>\n",
       "      <th>nutritional_profile</th>\n",
       "      <th>cooking_method</th>\n",
       "      <th>sub_dt</th>\n",
       "    </tr>\n",
       "  </thead>\n",
       "  <tbody>\n",
       "    <tr>\n",
       "      <th>0</th>\n",
       "      <td>https://file.b18a.io/7843322356500104680_443548_.jpeg</td>\n",
       "      <td>0.7</td>\n",
       "      <td>0.95</td>\n",
       "      <td>Fried Chicken</td>\n",
       "      <td>Restaurant food</td>\n",
       "      <td>[\"chicken\",\"breading\",\"oil\"]</td>\n",
       "      <td>[\"chicken:300g\"]</td>\n",
       "      <td>{\"fat_g\":25.0,\"protein_g\":30.0,\"calories_kcal\":400,\"carbohydrate_g\":15.0}</td>\n",
       "      <td>Frying</td>\n",
       "      <td>20250704</td>\n",
       "    </tr>\n",
       "    <tr>\n",
       "      <th>1</th>\n",
       "      <td>https://file.b18a.io/7833227147700100732_674878_.jpeg</td>\n",
       "      <td>0.7</td>\n",
       "      <td>1.00</td>\n",
       "      <td>Pho</td>\n",
       "      <td>Restaurant food</td>\n",
       "      <td>[\"noodles\",\"beef\",\"basil\",\"lime\",\"green onions\",\"chili\"]</td>\n",
       "      <td>[\"noodles:200g\",\"beef:100g\",\"vegetables:50g\"]</td>\n",
       "      <td>{\"fat_g\":15.0,\"protein_g\":25.0,\"calories_kcal\":450,\"carbohydrate_g\":60.0}</td>\n",
       "      <td>boiled</td>\n",
       "      <td>20250702</td>\n",
       "    </tr>\n",
       "    <tr>\n",
       "      <th>2</th>\n",
       "      <td>https://file.b18a.io/7832600581600103585_264234_.jpg</td>\n",
       "      <td>0.8</td>\n",
       "      <td>0.95</td>\n",
       "      <td>Pan-fried Dumplings</td>\n",
       "      <td>Restaurant food</td>\n",
       "      <td>[\"dumplings\",\"chili oil\",\"soy sauce\"]</td>\n",
       "      <td>[\"dumplings:300g\",\"sauce:50g\"]</td>\n",
       "      <td>{\"fat_g\":15.0,\"protein_g\":20.0,\"calories_kcal\":400,\"carbohydrate_g\":50.0}</td>\n",
       "      <td>Pan-frying</td>\n",
       "      <td>20250625</td>\n",
       "    </tr>\n",
       "    <tr>\n",
       "      <th>3</th>\n",
       "      <td>https://file.b18a.io/7839056601700101188_985151_.jpg</td>\n",
       "      <td>0.7</td>\n",
       "      <td>1.00</td>\n",
       "      <td>Bananas</td>\n",
       "      <td>Raw vegetables and fruits</td>\n",
       "      <td>[\"Bananas\"]</td>\n",
       "      <td>[\"Bananas: 10 pieces (about 1kg)\"]</td>\n",
       "      <td>{\"fat_g\":3.0,\"protein_g\":12.0,\"calories_kcal\":1050,\"carbohydrate_g\":270.0}</td>\n",
       "      <td>Raw</td>\n",
       "      <td>20250718</td>\n",
       "    </tr>\n",
       "    <tr>\n",
       "      <th>4</th>\n",
       "      <td>https://file.b18a.io/7837642737500100261_173129_.jpeg</td>\n",
       "      <td>0.8</td>\n",
       "      <td>0.90</td>\n",
       "      <td>Noodle Stir-Fry</td>\n",
       "      <td>Restaurant food</td>\n",
       "      <td>[\"noodles\",\"chicken\",\"vegetables\",\"sauce\"]</td>\n",
       "      <td>[\"noodles:300g\",\"chicken:100g\",\"vegetables:50g\"]</td>\n",
       "      <td>{\"fat_g\":20.0,\"protein_g\":25.0,\"calories_kcal\":600,\"carbohydrate_g\":80.0}</td>\n",
       "      <td>stir-fried</td>\n",
       "      <td>20250711</td>\n",
       "    </tr>\n",
       "  </tbody>\n",
       "</table>\n",
       "</div>"
      ],
      "text/plain": [
       "                                               image_url  \\\n",
       "0  https://file.b18a.io/7843322356500104680_443548_.jpeg   \n",
       "1  https://file.b18a.io/7833227147700100732_674878_.jpeg   \n",
       "2   https://file.b18a.io/7832600581600103585_264234_.jpg   \n",
       "3   https://file.b18a.io/7839056601700101188_985151_.jpg   \n",
       "4  https://file.b18a.io/7837642737500100261_173129_.jpeg   \n",
       "\n",
       "   camera_or_phone_prob  food_prob            dish_name  \\\n",
       "0                   0.7       0.95        Fried Chicken   \n",
       "1                   0.7       1.00                  Pho   \n",
       "2                   0.8       0.95  Pan-fried Dumplings   \n",
       "3                   0.7       1.00              Bananas   \n",
       "4                   0.8       0.90      Noodle Stir-Fry   \n",
       "\n",
       "                   food_type  \\\n",
       "0            Restaurant food   \n",
       "1            Restaurant food   \n",
       "2            Restaurant food   \n",
       "3  Raw vegetables and fruits   \n",
       "4            Restaurant food   \n",
       "\n",
       "                                                ingredients  \\\n",
       "0                              [\"chicken\",\"breading\",\"oil\"]   \n",
       "1  [\"noodles\",\"beef\",\"basil\",\"lime\",\"green onions\",\"chili\"]   \n",
       "2                     [\"dumplings\",\"chili oil\",\"soy sauce\"]   \n",
       "3                                               [\"Bananas\"]   \n",
       "4                [\"noodles\",\"chicken\",\"vegetables\",\"sauce\"]   \n",
       "\n",
       "                                       portion_size  \\\n",
       "0                                  [\"chicken:300g\"]   \n",
       "1     [\"noodles:200g\",\"beef:100g\",\"vegetables:50g\"]   \n",
       "2                    [\"dumplings:300g\",\"sauce:50g\"]   \n",
       "3                [\"Bananas: 10 pieces (about 1kg)\"]   \n",
       "4  [\"noodles:300g\",\"chicken:100g\",\"vegetables:50g\"]   \n",
       "\n",
       "                                                          nutritional_profile  \\\n",
       "0   {\"fat_g\":25.0,\"protein_g\":30.0,\"calories_kcal\":400,\"carbohydrate_g\":15.0}   \n",
       "1   {\"fat_g\":15.0,\"protein_g\":25.0,\"calories_kcal\":450,\"carbohydrate_g\":60.0}   \n",
       "2   {\"fat_g\":15.0,\"protein_g\":20.0,\"calories_kcal\":400,\"carbohydrate_g\":50.0}   \n",
       "3  {\"fat_g\":3.0,\"protein_g\":12.0,\"calories_kcal\":1050,\"carbohydrate_g\":270.0}   \n",
       "4   {\"fat_g\":20.0,\"protein_g\":25.0,\"calories_kcal\":600,\"carbohydrate_g\":80.0}   \n",
       "\n",
       "  cooking_method    sub_dt  \n",
       "0         Frying  20250704  \n",
       "1         boiled  20250702  \n",
       "2     Pan-frying  20250625  \n",
       "3            Raw  20250718  \n",
       "4     stir-fried  20250711  "
      ]
     },
     "execution_count": 31,
     "metadata": {},
     "output_type": "execute_result"
    }
   ],
   "source": [
    "df_mm_food.head()"
   ]
  },
  {
   "cell_type": "markdown",
   "id": "j0mjby551dl",
   "metadata": {},
   "source": [
    "### Dataset Structure\n",
    "\n",
    "Each record contains:"
   ]
  },
  {
   "cell_type": "code",
   "execution_count": 32,
   "id": "95822c84",
   "metadata": {},
   "outputs": [
    {
     "data": {
      "text/plain": [
       "(100000, 10)"
      ]
     },
     "execution_count": 32,
     "metadata": {},
     "output_type": "execute_result"
    }
   ],
   "source": [
    "df_mm_food.shape"
   ]
  },
  {
   "cell_type": "markdown",
   "id": "z7go37biq3q",
   "metadata": {},
   "source": [
    "**Dataset size**: 100,000 food images with complete metadata\n",
    "\n",
    "### Key Fields Analysis\n",
    "\n",
    "- **image_url**: Links to food images\n",
    "- **food_prob**: Confidence score that image contains food (0.90-1.00)\n",
    "- **dish_name**: Human-readable dish names\n",
    "- **ingredients**: JSON array of ingredients\n",
    "- **nutritional_profile**: Structured nutrition data (calories, macros)\n",
    "- **cooking_method**: Cooking technique used"
   ]
  },
  {
   "cell_type": "markdown",
   "id": "0f36a3da",
   "metadata": {},
   "source": [
    "Randomly Querying for dishes to see examples of food items in the dataset:"
   ]
  },
  {
   "cell_type": "code",
   "execution_count": 382,
   "id": "e8c07dde",
   "metadata": {},
   "outputs": [
    {
     "data": {
      "text/html": [
       "<div>\n",
       "<style scoped>\n",
       "    .dataframe tbody tr th:only-of-type {\n",
       "        vertical-align: middle;\n",
       "    }\n",
       "\n",
       "    .dataframe tbody tr th {\n",
       "        vertical-align: top;\n",
       "    }\n",
       "\n",
       "    .dataframe thead th {\n",
       "        text-align: right;\n",
       "    }\n",
       "</style>\n",
       "<table border=\"1\" class=\"dataframe\">\n",
       "  <thead>\n",
       "    <tr style=\"text-align: right;\">\n",
       "      <th></th>\n",
       "      <th>image_url</th>\n",
       "      <th>camera_or_phone_prob</th>\n",
       "      <th>food_prob</th>\n",
       "      <th>dish_name</th>\n",
       "      <th>food_type</th>\n",
       "      <th>ingredients</th>\n",
       "      <th>portion_size</th>\n",
       "      <th>nutritional_profile</th>\n",
       "      <th>cooking_method</th>\n",
       "      <th>sub_dt</th>\n",
       "    </tr>\n",
       "  </thead>\n",
       "  <tbody>\n",
       "    <tr>\n",
       "      <th>266</th>\n",
       "      <td>https://file.b18a.io/7838173276400109163_913120_.jpg</td>\n",
       "      <td>0.7</td>\n",
       "      <td>0.90</td>\n",
       "      <td>Lotus Root Soup</td>\n",
       "      <td>Homemade food</td>\n",
       "      <td>[\"lotus root\",\"goji berries\",\"red dates\",\"water\"]</td>\n",
       "      <td>[\"lotus root:200g\",\"goji berries:30g\",\"red dates:20g\"]</td>\n",
       "      <td>{\"fat_g\":1.5,\"protein_g\":3.0,\"calories_kcal\":150,\"carbohydrate_g\":35.0}</td>\n",
       "      <td>boiling</td>\n",
       "      <td>20250702</td>\n",
       "    </tr>\n",
       "    <tr>\n",
       "      <th>403</th>\n",
       "      <td>https://file.b18a.io/7836539002300107170_887273_.png</td>\n",
       "      <td>0.8</td>\n",
       "      <td>0.95</td>\n",
       "      <td>Stir-fried Chicken with Mushrooms</td>\n",
       "      <td>Restaurant food</td>\n",
       "      <td>[\"chicken\",\"mushrooms\",\"green onions\",\"soy sauce\"]</td>\n",
       "      <td>[\"chicken:200g\",\"mushrooms:150g\",\"sauce:50g\"]</td>\n",
       "      <td>{\"fat_g\":20.0,\"protein_g\":30.0,\"calories_kcal\":450,\"carbohydrate_g\":40.0}</td>\n",
       "      <td>Stir-frying</td>\n",
       "      <td>20250716</td>\n",
       "    </tr>\n",
       "    <tr>\n",
       "      <th>575</th>\n",
       "      <td>https://file.b18a.io/7833149487400100112_516441_.jpg</td>\n",
       "      <td>0.8</td>\n",
       "      <td>1.00</td>\n",
       "      <td>Mushroom Soup</td>\n",
       "      <td>Homemade food</td>\n",
       "      <td>[\"mushrooms\",\"green onions\",\"red peppers\",\"broth\"]</td>\n",
       "      <td>[\"mushrooms:200g\",\"vegetables:100g\",\"broth:150g\"]</td>\n",
       "      <td>{\"fat_g\":10.0,\"protein_g\":15.0,\"calories_kcal\":250,\"carbohydrate_g\":30.0}</td>\n",
       "      <td>simmering</td>\n",
       "      <td>20250718</td>\n",
       "    </tr>\n",
       "    <tr>\n",
       "      <th>892</th>\n",
       "      <td>https://file.b18a.io/7832951279300109465_681960_.jpeg</td>\n",
       "      <td>0.7</td>\n",
       "      <td>0.90</td>\n",
       "      <td>Mushrooms</td>\n",
       "      <td>Raw vegetables and fruits</td>\n",
       "      <td>[\"mushrooms\"]</td>\n",
       "      <td>[\"mushrooms:300g\"]</td>\n",
       "      <td>{\"fat_g\":0.5,\"protein_g\":3.1,\"calories_kcal\":50,\"carbohydrate_g\":10.0}</td>\n",
       "      <td>Raw</td>\n",
       "      <td>20250722</td>\n",
       "    </tr>\n",
       "    <tr>\n",
       "      <th>959</th>\n",
       "      <td>https://file.b18a.io/7833594142600100691_330054_.jpg</td>\n",
       "      <td>0.7</td>\n",
       "      <td>0.90</td>\n",
       "      <td>Spicy Stir-Fried Lotus Root</td>\n",
       "      <td>Homemade food</td>\n",
       "      <td>[\"lotus root\",\"oil\",\"spices\"]</td>\n",
       "      <td>[\"lotus root:300g\",\"oil:20g\"]</td>\n",
       "      <td>{\"fat_g\":10.0,\"protein_g\":5.0,\"calories_kcal\":250,\"carbohydrate_g\":35.0}</td>\n",
       "      <td>stir-frying</td>\n",
       "      <td>20250708</td>\n",
       "    </tr>\n",
       "    <tr>\n",
       "      <th>...</th>\n",
       "      <td>...</td>\n",
       "      <td>...</td>\n",
       "      <td>...</td>\n",
       "      <td>...</td>\n",
       "      <td>...</td>\n",
       "      <td>...</td>\n",
       "      <td>...</td>\n",
       "      <td>...</td>\n",
       "      <td>...</td>\n",
       "      <td>...</td>\n",
       "    </tr>\n",
       "    <tr>\n",
       "      <th>99421</th>\n",
       "      <td>https://file.b18a.io/7833741876900106219_712413_.jpeg</td>\n",
       "      <td>0.8</td>\n",
       "      <td>0.90</td>\n",
       "      <td>Mushroom and Goji Berry Soup</td>\n",
       "      <td>Homemade food</td>\n",
       "      <td>[\"mushrooms\",\"goji berries\",\"water\"]</td>\n",
       "      <td>[\"mushrooms:200g\",\"goji berries:50g\"]</td>\n",
       "      <td>{\"fat_g\":2.0,\"protein_g\":5.0,\"calories_kcal\":150,\"carbohydrate_g\":30.0}</td>\n",
       "      <td>boiling</td>\n",
       "      <td>20250711</td>\n",
       "    </tr>\n",
       "    <tr>\n",
       "      <th>99450</th>\n",
       "      <td>https://file.b18a.io/7855191536600102146_788001_.jpg</td>\n",
       "      <td>0.7</td>\n",
       "      <td>1.00</td>\n",
       "      <td>Mushroom Stir-Fry</td>\n",
       "      <td>Homemade food</td>\n",
       "      <td>[\"mushrooms\",\"green peppers\",\"red peppers\",\"garlic\",\"soy sauce\"]</td>\n",
       "      <td>[\"mushrooms:200g\",\"green peppers:100g\",\"red peppers:50g\"]</td>\n",
       "      <td>{\"fat_g\":10.0,\"protein_g\":15.0,\"calories_kcal\":250,\"carbohydrate_g\":30.0}</td>\n",
       "      <td>stir-frying</td>\n",
       "      <td>20250707</td>\n",
       "    </tr>\n",
       "    <tr>\n",
       "      <th>99645</th>\n",
       "      <td>https://file.b18a.io/7840707662800104134_155163_.jpg</td>\n",
       "      <td>0.7</td>\n",
       "      <td>0.90</td>\n",
       "      <td>Stir-fried Mushrooms and Vegetables</td>\n",
       "      <td>Homemade food</td>\n",
       "      <td>[\"mushrooms\",\"bell peppers\",\"onions\",\"soy sauce\"]</td>\n",
       "      <td>[\"mushrooms:300g\",\"bell peppers:50g\",\"onions:50g\"]</td>\n",
       "      <td>{\"fat_g\":5.0,\"protein_g\":10.0,\"calories_kcal\":200,\"carbohydrate_g\":30.0}</td>\n",
       "      <td>Stir-frying</td>\n",
       "      <td>20250703</td>\n",
       "    </tr>\n",
       "    <tr>\n",
       "      <th>99700</th>\n",
       "      <td>https://file.b18a.io/7841749432200105201_624723_.jpeg</td>\n",
       "      <td>0.7</td>\n",
       "      <td>0.90</td>\n",
       "      <td>Lotus Root Soup</td>\n",
       "      <td>Homemade food</td>\n",
       "      <td>[\"lotus root\",\"green onion\",\"water\"]</td>\n",
       "      <td>[\"lotus root:300g\",\"green onion:10g\"]</td>\n",
       "      <td>{\"fat_g\":0.5,\"protein_g\":3,\"calories_kcal\":150,\"carbohydrate_g\":35}</td>\n",
       "      <td>boiled</td>\n",
       "      <td>20250717</td>\n",
       "    </tr>\n",
       "    <tr>\n",
       "      <th>99744</th>\n",
       "      <td>https://file.b18a.io/7833820963500106126_843996_.jpeg</td>\n",
       "      <td>0.8</td>\n",
       "      <td>0.95</td>\n",
       "      <td>Chicken and Mushroom Stir-fry</td>\n",
       "      <td>Homemade food</td>\n",
       "      <td>[\"chicken\",\"mushrooms\",\"soy sauce\",\"garlic\"]</td>\n",
       "      <td>[\"chicken:250g\",\"mushrooms:100g\"]</td>\n",
       "      <td>{\"fat_g\":20.0,\"protein_g\":30.0,\"calories_kcal\":350,\"carbohydrate_g\":10.0}</td>\n",
       "      <td>stir-frying</td>\n",
       "      <td>20250720</td>\n",
       "    </tr>\n",
       "  </tbody>\n",
       "</table>\n",
       "<p>530 rows × 10 columns</p>\n",
       "</div>"
      ],
      "text/plain": [
       "                                                   image_url  \\\n",
       "266     https://file.b18a.io/7838173276400109163_913120_.jpg   \n",
       "403     https://file.b18a.io/7836539002300107170_887273_.png   \n",
       "575     https://file.b18a.io/7833149487400100112_516441_.jpg   \n",
       "892    https://file.b18a.io/7832951279300109465_681960_.jpeg   \n",
       "959     https://file.b18a.io/7833594142600100691_330054_.jpg   \n",
       "...                                                      ...   \n",
       "99421  https://file.b18a.io/7833741876900106219_712413_.jpeg   \n",
       "99450   https://file.b18a.io/7855191536600102146_788001_.jpg   \n",
       "99645   https://file.b18a.io/7840707662800104134_155163_.jpg   \n",
       "99700  https://file.b18a.io/7841749432200105201_624723_.jpeg   \n",
       "99744  https://file.b18a.io/7833820963500106126_843996_.jpeg   \n",
       "\n",
       "       camera_or_phone_prob  food_prob                            dish_name  \\\n",
       "266                     0.7       0.90                      Lotus Root Soup   \n",
       "403                     0.8       0.95    Stir-fried Chicken with Mushrooms   \n",
       "575                     0.8       1.00                        Mushroom Soup   \n",
       "892                     0.7       0.90                            Mushrooms   \n",
       "959                     0.7       0.90          Spicy Stir-Fried Lotus Root   \n",
       "...                     ...        ...                                  ...   \n",
       "99421                   0.8       0.90         Mushroom and Goji Berry Soup   \n",
       "99450                   0.7       1.00                    Mushroom Stir-Fry   \n",
       "99645                   0.7       0.90  Stir-fried Mushrooms and Vegetables   \n",
       "99700                   0.7       0.90                      Lotus Root Soup   \n",
       "99744                   0.8       0.95        Chicken and Mushroom Stir-fry   \n",
       "\n",
       "                       food_type  \\\n",
       "266                Homemade food   \n",
       "403              Restaurant food   \n",
       "575                Homemade food   \n",
       "892    Raw vegetables and fruits   \n",
       "959                Homemade food   \n",
       "...                          ...   \n",
       "99421              Homemade food   \n",
       "99450              Homemade food   \n",
       "99645              Homemade food   \n",
       "99700              Homemade food   \n",
       "99744              Homemade food   \n",
       "\n",
       "                                                            ingredients  \\\n",
       "266                   [\"lotus root\",\"goji berries\",\"red dates\",\"water\"]   \n",
       "403                  [\"chicken\",\"mushrooms\",\"green onions\",\"soy sauce\"]   \n",
       "575                  [\"mushrooms\",\"green onions\",\"red peppers\",\"broth\"]   \n",
       "892                                                       [\"mushrooms\"]   \n",
       "959                                       [\"lotus root\",\"oil\",\"spices\"]   \n",
       "...                                                                 ...   \n",
       "99421                              [\"mushrooms\",\"goji berries\",\"water\"]   \n",
       "99450  [\"mushrooms\",\"green peppers\",\"red peppers\",\"garlic\",\"soy sauce\"]   \n",
       "99645                 [\"mushrooms\",\"bell peppers\",\"onions\",\"soy sauce\"]   \n",
       "99700                              [\"lotus root\",\"green onion\",\"water\"]   \n",
       "99744                      [\"chicken\",\"mushrooms\",\"soy sauce\",\"garlic\"]   \n",
       "\n",
       "                                                    portion_size  \\\n",
       "266       [\"lotus root:200g\",\"goji berries:30g\",\"red dates:20g\"]   \n",
       "403                [\"chicken:200g\",\"mushrooms:150g\",\"sauce:50g\"]   \n",
       "575            [\"mushrooms:200g\",\"vegetables:100g\",\"broth:150g\"]   \n",
       "892                                           [\"mushrooms:300g\"]   \n",
       "959                                [\"lotus root:300g\",\"oil:20g\"]   \n",
       "...                                                          ...   \n",
       "99421                      [\"mushrooms:200g\",\"goji berries:50g\"]   \n",
       "99450  [\"mushrooms:200g\",\"green peppers:100g\",\"red peppers:50g\"]   \n",
       "99645         [\"mushrooms:300g\",\"bell peppers:50g\",\"onions:50g\"]   \n",
       "99700                      [\"lotus root:300g\",\"green onion:10g\"]   \n",
       "99744                          [\"chicken:250g\",\"mushrooms:100g\"]   \n",
       "\n",
       "                                                             nutritional_profile  \\\n",
       "266      {\"fat_g\":1.5,\"protein_g\":3.0,\"calories_kcal\":150,\"carbohydrate_g\":35.0}   \n",
       "403    {\"fat_g\":20.0,\"protein_g\":30.0,\"calories_kcal\":450,\"carbohydrate_g\":40.0}   \n",
       "575    {\"fat_g\":10.0,\"protein_g\":15.0,\"calories_kcal\":250,\"carbohydrate_g\":30.0}   \n",
       "892       {\"fat_g\":0.5,\"protein_g\":3.1,\"calories_kcal\":50,\"carbohydrate_g\":10.0}   \n",
       "959     {\"fat_g\":10.0,\"protein_g\":5.0,\"calories_kcal\":250,\"carbohydrate_g\":35.0}   \n",
       "...                                                                          ...   \n",
       "99421    {\"fat_g\":2.0,\"protein_g\":5.0,\"calories_kcal\":150,\"carbohydrate_g\":30.0}   \n",
       "99450  {\"fat_g\":10.0,\"protein_g\":15.0,\"calories_kcal\":250,\"carbohydrate_g\":30.0}   \n",
       "99645   {\"fat_g\":5.0,\"protein_g\":10.0,\"calories_kcal\":200,\"carbohydrate_g\":30.0}   \n",
       "99700        {\"fat_g\":0.5,\"protein_g\":3,\"calories_kcal\":150,\"carbohydrate_g\":35}   \n",
       "99744  {\"fat_g\":20.0,\"protein_g\":30.0,\"calories_kcal\":350,\"carbohydrate_g\":10.0}   \n",
       "\n",
       "      cooking_method    sub_dt  \n",
       "266          boiling  20250702  \n",
       "403      Stir-frying  20250716  \n",
       "575        simmering  20250718  \n",
       "892              Raw  20250722  \n",
       "959      stir-frying  20250708  \n",
       "...              ...       ...  \n",
       "99421        boiling  20250711  \n",
       "99450    stir-frying  20250707  \n",
       "99645    Stir-frying  20250703  \n",
       "99700         boiled  20250717  \n",
       "99744    stir-frying  20250720  \n",
       "\n",
       "[530 rows x 10 columns]"
      ]
     },
     "execution_count": 382,
     "metadata": {},
     "output_type": "execute_result"
    }
   ],
   "source": [
    "df_mm_food.query(\"dish_name.str.contains('Roo', na=False, case=False)\")"
   ]
  },
  {
   "cell_type": "code",
   "execution_count": null,
   "id": "512fb89a",
   "metadata": {},
   "outputs": [
    {
     "data": {
      "text/plain": [
       "image_url                                   https://file.b18a.io/7833227147700100732_674878_.jpeg\n",
       "camera_or_phone_prob                                                                          0.7\n",
       "food_prob                                                                                     1.0\n",
       "dish_name                                                                                     Pho\n",
       "food_type                                                                         Restaurant food\n",
       "ingredients                              [\"noodles\",\"beef\",\"basil\",\"lime\",\"green onions\",\"chili\"]\n",
       "portion_size                                        [\"noodles:200g\",\"beef:100g\",\"vegetables:50g\"]\n",
       "nutritional_profile     {\"fat_g\":15.0,\"protein_g\":25.0,\"calories_kcal\":450,\"carbohydrate_g\":60.0}\n",
       "cooking_method                                                                             boiled\n",
       "sub_dt                                                                                   20250702\n",
       "Name: 1, dtype: object"
      ]
     },
     "execution_count": 355,
     "metadata": {},
     "output_type": "execute_result"
    }
   ],
   "source": [
    "df_mm_food.query(\"dish_name.str.contains('Pho', na=False, case=False)\").iloc[0]"
   ]
  },
  {
   "cell_type": "code",
   "execution_count": null,
   "id": "a613975a",
   "metadata": {},
   "outputs": [
    {
     "data": {
      "text/plain": [
       "19288"
      ]
     },
     "execution_count": 375,
     "metadata": {},
     "output_type": "execute_result"
    }
   ],
   "source": [
    "print(df_mm_food[\"dish_name\"].nunique())"
   ]
  },
  {
   "cell_type": "markdown",
   "id": "89d6fce7",
   "metadata": {},
   "source": [
    "There are totally 19,288 unique dishes. "
   ]
  },
  {
   "cell_type": "code",
   "execution_count": 376,
   "id": "ff2f65c3",
   "metadata": {},
   "outputs": [],
   "source": [
    "df_unique_dishes = df_mm_food.drop_duplicates(subset=[\"dish_name\"])"
   ]
  },
  {
   "cell_type": "code",
   "execution_count": null,
   "id": "a4e94fd8",
   "metadata": {},
   "outputs": [
    {
     "data": {
      "text/plain": [
       "(19289, 10)"
      ]
     },
     "execution_count": 378,
     "metadata": {},
     "output_type": "execute_result"
    }
   ],
   "source": [
    "df_unique_dishes.shape"
   ]
  },
  {
   "cell_type": "code",
   "execution_count": null,
   "id": "e61544f9",
   "metadata": {},
   "outputs": [],
   "source": [
    "df_unique_dishes.to_parquet(\n",
    "    os.path.join(data_folder, \"mm-food-100k-unique-dishes.parquet\"), index=False\n",
    ")"
   ]
  },
  {
   "cell_type": "code",
   "execution_count": null,
   "id": "eb2396db",
   "metadata": {},
   "outputs": [],
   "source": [
    "df_unique_dishes = pd.read_parquet(\n",
    "    os.path.join(data_folder, \"mm-food-100k-unique-dishes.parquet\")\n",
    ")"
   ]
  },
  {
   "cell_type": "code",
   "execution_count": 381,
   "id": "1d09e204",
   "metadata": {},
   "outputs": [
    {
     "data": {
      "text/html": [
       "<div>\n",
       "<style scoped>\n",
       "    .dataframe tbody tr th:only-of-type {\n",
       "        vertical-align: middle;\n",
       "    }\n",
       "\n",
       "    .dataframe tbody tr th {\n",
       "        vertical-align: top;\n",
       "    }\n",
       "\n",
       "    .dataframe thead th {\n",
       "        text-align: right;\n",
       "    }\n",
       "</style>\n",
       "<table border=\"1\" class=\"dataframe\">\n",
       "  <thead>\n",
       "    <tr style=\"text-align: right;\">\n",
       "      <th></th>\n",
       "      <th>image_url</th>\n",
       "      <th>camera_or_phone_prob</th>\n",
       "      <th>food_prob</th>\n",
       "      <th>dish_name</th>\n",
       "      <th>food_type</th>\n",
       "      <th>ingredients</th>\n",
       "      <th>portion_size</th>\n",
       "      <th>nutritional_profile</th>\n",
       "      <th>cooking_method</th>\n",
       "      <th>sub_dt</th>\n",
       "    </tr>\n",
       "  </thead>\n",
       "  <tbody>\n",
       "    <tr>\n",
       "      <th>8923</th>\n",
       "      <td>https://file.b18a.io/7843258368600103237_508632_.jpg</td>\n",
       "      <td>0.8</td>\n",
       "      <td>0.9</td>\n",
       "      <td>Fried Platter</td>\n",
       "      <td>Restaurant food</td>\n",
       "      <td>[\"fried items\",\"sauce\",\"lettuce\",\"onion\"]</td>\n",
       "      <td>[\"fried items:300g\",\"sauce:50g\",\"salad:50g\"]</td>\n",
       "      <td>{\"fat_g\":35.0,\"protein_g\":25.0,\"calories_kcal\":600,\"carbohydrate_g\":50.0}</td>\n",
       "      <td>Fried</td>\n",
       "      <td>20250706</td>\n",
       "    </tr>\n",
       "    <tr>\n",
       "      <th>9304</th>\n",
       "      <td>https://file.b18a.io/7839325701600105671_962855_.jpg</td>\n",
       "      <td>0.8</td>\n",
       "      <td>0.9</td>\n",
       "      <td>Burger with Fruits</td>\n",
       "      <td>Homemade food</td>\n",
       "      <td>[\"burger patty\",\"bun\",\"strawberries\",\"blueberries\"]</td>\n",
       "      <td>[\"burger:200g\",\"strawberries:100g\",\"blueberries:50g\"]</td>\n",
       "      <td>{\"fat_g\":30.0,\"protein_g\":25.0,\"calories_kcal\":600,\"carbohydrate_g\":50.0}</td>\n",
       "      <td>Grilled</td>\n",
       "      <td>20250703</td>\n",
       "    </tr>\n",
       "    <tr>\n",
       "      <th>678</th>\n",
       "      <td>https://file.b18a.io/7893306157900101617_936768_.jpeg</td>\n",
       "      <td>0.8</td>\n",
       "      <td>0.9</td>\n",
       "      <td>Banana</td>\n",
       "      <td>Raw vegetables and fruits</td>\n",
       "      <td>[\"banana\"]</td>\n",
       "      <td>[\"banana:120g\"]</td>\n",
       "      <td>{\"fat_g\":0.3,\"protein_g\":1.3,\"calories_kcal\":105,\"carbohydrate_g\":27}</td>\n",
       "      <td>Raw</td>\n",
       "      <td>20250717</td>\n",
       "    </tr>\n",
       "    <tr>\n",
       "      <th>7453</th>\n",
       "      <td>https://file.b18a.io/7832754434500100633_135877_.jpeg</td>\n",
       "      <td>0.8</td>\n",
       "      <td>0.9</td>\n",
       "      <td>Cheese Sandwiches</td>\n",
       "      <td>Restaurant food</td>\n",
       "      <td>[\"bread\",\"cheese\",\"butter\"]</td>\n",
       "      <td>[\"bread:200g\",\"cheese:100g\"]</td>\n",
       "      <td>{\"fat_g\":10.0,\"protein_g\":12.0,\"calories_kcal\":300,\"carbohydrate_g\":40.0}</td>\n",
       "      <td>No cooking, assembled</td>\n",
       "      <td>20250625</td>\n",
       "    </tr>\n",
       "    <tr>\n",
       "      <th>9920</th>\n",
       "      <td>https://file.b18a.io/7833381352600100120_979298_.jpg</td>\n",
       "      <td>0.8</td>\n",
       "      <td>1.0</td>\n",
       "      <td>Egg and Ham Tortilla Wraps</td>\n",
       "      <td>Homemade food</td>\n",
       "      <td>[\"tortilla\",\"egg\",\"ham\",\"avocado\"]</td>\n",
       "      <td>[\"tortilla:100g\",\"egg:100g\",\"ham:50g\",\"avocado:50g\"]</td>\n",
       "      <td>{\"fat_g\":30.0,\"protein_g\":25.0,\"calories_kcal\":500,\"carbohydrate_g\":40.0}</td>\n",
       "      <td>Fried</td>\n",
       "      <td>20250630</td>\n",
       "    </tr>\n",
       "  </tbody>\n",
       "</table>\n",
       "</div>"
      ],
      "text/plain": [
       "                                                  image_url  \\\n",
       "8923   https://file.b18a.io/7843258368600103237_508632_.jpg   \n",
       "9304   https://file.b18a.io/7839325701600105671_962855_.jpg   \n",
       "678   https://file.b18a.io/7893306157900101617_936768_.jpeg   \n",
       "7453  https://file.b18a.io/7832754434500100633_135877_.jpeg   \n",
       "9920   https://file.b18a.io/7833381352600100120_979298_.jpg   \n",
       "\n",
       "      camera_or_phone_prob  food_prob                   dish_name  \\\n",
       "8923                   0.8        0.9               Fried Platter   \n",
       "9304                   0.8        0.9          Burger with Fruits   \n",
       "678                    0.8        0.9                      Banana   \n",
       "7453                   0.8        0.9           Cheese Sandwiches   \n",
       "9920                   0.8        1.0  Egg and Ham Tortilla Wraps   \n",
       "\n",
       "                      food_type  \\\n",
       "8923            Restaurant food   \n",
       "9304              Homemade food   \n",
       "678   Raw vegetables and fruits   \n",
       "7453            Restaurant food   \n",
       "9920              Homemade food   \n",
       "\n",
       "                                              ingredients  \\\n",
       "8923            [\"fried items\",\"sauce\",\"lettuce\",\"onion\"]   \n",
       "9304  [\"burger patty\",\"bun\",\"strawberries\",\"blueberries\"]   \n",
       "678                                            [\"banana\"]   \n",
       "7453                          [\"bread\",\"cheese\",\"butter\"]   \n",
       "9920                   [\"tortilla\",\"egg\",\"ham\",\"avocado\"]   \n",
       "\n",
       "                                               portion_size  \\\n",
       "8923           [\"fried items:300g\",\"sauce:50g\",\"salad:50g\"]   \n",
       "9304  [\"burger:200g\",\"strawberries:100g\",\"blueberries:50g\"]   \n",
       "678                                         [\"banana:120g\"]   \n",
       "7453                           [\"bread:200g\",\"cheese:100g\"]   \n",
       "9920   [\"tortilla:100g\",\"egg:100g\",\"ham:50g\",\"avocado:50g\"]   \n",
       "\n",
       "                                                            nutritional_profile  \\\n",
       "8923  {\"fat_g\":35.0,\"protein_g\":25.0,\"calories_kcal\":600,\"carbohydrate_g\":50.0}   \n",
       "9304  {\"fat_g\":30.0,\"protein_g\":25.0,\"calories_kcal\":600,\"carbohydrate_g\":50.0}   \n",
       "678       {\"fat_g\":0.3,\"protein_g\":1.3,\"calories_kcal\":105,\"carbohydrate_g\":27}   \n",
       "7453  {\"fat_g\":10.0,\"protein_g\":12.0,\"calories_kcal\":300,\"carbohydrate_g\":40.0}   \n",
       "9920  {\"fat_g\":30.0,\"protein_g\":25.0,\"calories_kcal\":500,\"carbohydrate_g\":40.0}   \n",
       "\n",
       "             cooking_method    sub_dt  \n",
       "8923                  Fried  20250706  \n",
       "9304                Grilled  20250703  \n",
       "678                     Raw  20250717  \n",
       "7453  No cooking, assembled  20250625  \n",
       "9920                  Fried  20250630  "
      ]
     },
     "execution_count": 381,
     "metadata": {},
     "output_type": "execute_result"
    }
   ],
   "source": [
    "df_unique_dishes.sample(5)"
   ]
  },
  {
   "cell_type": "code",
   "execution_count": 383,
   "id": "72a39bbb",
   "metadata": {},
   "outputs": [
    {
     "data": {
      "text/plain": [
       "food_type\n",
       "Homemade food                9452\n",
       "Restaurant food              6505\n",
       "Packaged food                2635\n",
       "Raw vegetables and fruits     612\n",
       "Others                         85\n",
       "Name: count, dtype: int64"
      ]
     },
     "execution_count": 383,
     "metadata": {},
     "output_type": "execute_result"
    }
   ],
   "source": [
    "df_unique_dishes[\"food_type\"].value_counts()"
   ]
  },
  {
   "cell_type": "code",
   "execution_count": 385,
   "id": "7833d6a6",
   "metadata": {},
   "outputs": [
    {
     "data": {
      "text/plain": [
       "food_type\n",
       "Homemade food                0.490020\n",
       "Restaurant food              0.337239\n",
       "Packaged food                0.136606\n",
       "Raw vegetables and fruits    0.031728\n",
       "Others                       0.004407\n",
       "Name: proportion, dtype: float64"
      ]
     },
     "execution_count": 385,
     "metadata": {},
     "output_type": "execute_result"
    }
   ],
   "source": [
    "df_unique_dishes[\"food_type\"].value_counts(normalize=True)"
   ]
  },
  {
   "cell_type": "code",
   "execution_count": 457,
   "id": "335a07b5",
   "metadata": {},
   "outputs": [
    {
     "data": {
      "text/html": [
       "<div>\n",
       "<style scoped>\n",
       "    .dataframe tbody tr th:only-of-type {\n",
       "        vertical-align: middle;\n",
       "    }\n",
       "\n",
       "    .dataframe tbody tr th {\n",
       "        vertical-align: top;\n",
       "    }\n",
       "\n",
       "    .dataframe thead th {\n",
       "        text-align: right;\n",
       "    }\n",
       "</style>\n",
       "<table border=\"1\" class=\"dataframe\">\n",
       "  <thead>\n",
       "    <tr style=\"text-align: right;\">\n",
       "      <th></th>\n",
       "      <th>image_url</th>\n",
       "      <th>camera_or_phone_prob</th>\n",
       "      <th>food_prob</th>\n",
       "      <th>dish_name</th>\n",
       "      <th>food_type</th>\n",
       "      <th>ingredients</th>\n",
       "      <th>portion_size</th>\n",
       "      <th>nutritional_profile</th>\n",
       "      <th>cooking_method</th>\n",
       "      <th>sub_dt</th>\n",
       "    </tr>\n",
       "  </thead>\n",
       "  <tbody>\n",
       "    <tr>\n",
       "      <th>7386</th>\n",
       "      <td>https://file.b18a.io/7837100869800101655_833829_.jpg</td>\n",
       "      <td>0.7</td>\n",
       "      <td>0.9</td>\n",
       "      <td>Grilled Flavor Pork</td>\n",
       "      <td>Packaged food</td>\n",
       "      <td>[\"pork\",\"seasoning\"]</td>\n",
       "      <td>[\"pork:30g\"]</td>\n",
       "      <td>{\"fat_g\":10.0,\"protein_g\":12.0,\"calories_kcal\":150,\"carbohydrate_g\":5.0}</td>\n",
       "      <td>grilled</td>\n",
       "      <td>20250702</td>\n",
       "    </tr>\n",
       "    <tr>\n",
       "      <th>10543</th>\n",
       "      <td>https://file.b18a.io/7833530512900106817_362477_.jpg</td>\n",
       "      <td>0.7</td>\n",
       "      <td>0.9</td>\n",
       "      <td>Cheese-flavored snack</td>\n",
       "      <td>Packaged food</td>\n",
       "      <td>[\"cornmeal\",\"cheese powder\",\"oil\"]</td>\n",
       "      <td>[\"snack:50g\"]</td>\n",
       "      <td>{\"fat_g\":8.0,\"protein_g\":2.0,\"calories_kcal\":150,\"carbohydrate_g\":18.0}</td>\n",
       "      <td>Fried</td>\n",
       "      <td>20250707</td>\n",
       "    </tr>\n",
       "    <tr>\n",
       "      <th>6066</th>\n",
       "      <td>https://file.b18a.io/7838857055500104955_332357_.jpeg</td>\n",
       "      <td>0.8</td>\n",
       "      <td>0.9</td>\n",
       "      <td>Green Tea Snack Bar</td>\n",
       "      <td>Packaged food</td>\n",
       "      <td>[\"green tea\",\"nuts\",\"sugar\",\"rice\"]</td>\n",
       "      <td>[\"snack_bar:50g\"]</td>\n",
       "      <td>{\"fat_g\":5.0,\"protein_g\":3.0,\"calories_kcal\":150,\"carbohydrate_g\":25.0}</td>\n",
       "      <td>Packaged</td>\n",
       "      <td>20250719</td>\n",
       "    </tr>\n",
       "    <tr>\n",
       "      <th>18026</th>\n",
       "      <td>https://file.b18a.io/7859488616900107050_795828_.jpeg</td>\n",
       "      <td>0.7</td>\n",
       "      <td>0.9</td>\n",
       "      <td>Oreo Strawberry Cream</td>\n",
       "      <td>Packaged food</td>\n",
       "      <td>[\"Oreo cookie\",\"strawberry cream\"]</td>\n",
       "      <td>[\"Oreo: 100g\"]</td>\n",
       "      <td>{\"fat_g\":7.0,\"protein_g\":1.0,\"calories_kcal\":150,\"carbohydrate_g\":22.0}</td>\n",
       "      <td>Packaged</td>\n",
       "      <td>20250718</td>\n",
       "    </tr>\n",
       "    <tr>\n",
       "      <th>10413</th>\n",
       "      <td>https://file.b18a.io/7954739284400108122_318853_.png</td>\n",
       "      <td>0.6</td>\n",
       "      <td>0.9</td>\n",
       "      <td>Assorted Snack Chips</td>\n",
       "      <td>Packaged food</td>\n",
       "      <td>[\"potato\",\"oil\",\"salt\",\"flavoring\"]</td>\n",
       "      <td>[\"potato chips:500g\"]</td>\n",
       "      <td>{\"fat_g\":80.0,\"protein_g\":20.0,\"calories_kcal\":1500,\"carbohydrate_g\":180.0}</td>\n",
       "      <td>Fried</td>\n",
       "      <td>20250721</td>\n",
       "    </tr>\n",
       "  </tbody>\n",
       "</table>\n",
       "</div>"
      ],
      "text/plain": [
       "                                                   image_url  \\\n",
       "7386    https://file.b18a.io/7837100869800101655_833829_.jpg   \n",
       "10543   https://file.b18a.io/7833530512900106817_362477_.jpg   \n",
       "6066   https://file.b18a.io/7838857055500104955_332357_.jpeg   \n",
       "18026  https://file.b18a.io/7859488616900107050_795828_.jpeg   \n",
       "10413   https://file.b18a.io/7954739284400108122_318853_.png   \n",
       "\n",
       "       camera_or_phone_prob  food_prob              dish_name      food_type  \\\n",
       "7386                    0.7        0.9    Grilled Flavor Pork  Packaged food   \n",
       "10543                   0.7        0.9  Cheese-flavored snack  Packaged food   \n",
       "6066                    0.8        0.9    Green Tea Snack Bar  Packaged food   \n",
       "18026                   0.7        0.9  Oreo Strawberry Cream  Packaged food   \n",
       "10413                   0.6        0.9   Assorted Snack Chips  Packaged food   \n",
       "\n",
       "                               ingredients           portion_size  \\\n",
       "7386                  [\"pork\",\"seasoning\"]           [\"pork:30g\"]   \n",
       "10543   [\"cornmeal\",\"cheese powder\",\"oil\"]          [\"snack:50g\"]   \n",
       "6066   [\"green tea\",\"nuts\",\"sugar\",\"rice\"]      [\"snack_bar:50g\"]   \n",
       "18026   [\"Oreo cookie\",\"strawberry cream\"]         [\"Oreo: 100g\"]   \n",
       "10413  [\"potato\",\"oil\",\"salt\",\"flavoring\"]  [\"potato chips:500g\"]   \n",
       "\n",
       "                                                               nutritional_profile  \\\n",
       "7386      {\"fat_g\":10.0,\"protein_g\":12.0,\"calories_kcal\":150,\"carbohydrate_g\":5.0}   \n",
       "10543      {\"fat_g\":8.0,\"protein_g\":2.0,\"calories_kcal\":150,\"carbohydrate_g\":18.0}   \n",
       "6066       {\"fat_g\":5.0,\"protein_g\":3.0,\"calories_kcal\":150,\"carbohydrate_g\":25.0}   \n",
       "18026      {\"fat_g\":7.0,\"protein_g\":1.0,\"calories_kcal\":150,\"carbohydrate_g\":22.0}   \n",
       "10413  {\"fat_g\":80.0,\"protein_g\":20.0,\"calories_kcal\":1500,\"carbohydrate_g\":180.0}   \n",
       "\n",
       "      cooking_method    sub_dt  \n",
       "7386         grilled  20250702  \n",
       "10543          Fried  20250707  \n",
       "6066        Packaged  20250719  \n",
       "18026       Packaged  20250718  \n",
       "10413          Fried  20250721  "
      ]
     },
     "execution_count": 457,
     "metadata": {},
     "output_type": "execute_result"
    }
   ],
   "source": [
    "df_unique_dishes.query(\"food_type == 'Packaged food'\").sample(5)"
   ]
  },
  {
   "cell_type": "markdown",
   "id": "3uwtewo7xsj",
   "metadata": {},
   "source": [
    "This Pho record shows:\n",
    "- **Rich ingredient data**: Detailed ingredient lists as JSON arrays\n",
    "- **Nutritional information**: Structured macro and calorie data\n",
    "- **Portion sizing**: Specific measurements for ingredients\n",
    "- **Cooking methods**: Standardized cooking techniques"
   ]
  },
  {
   "cell_type": "markdown",
   "id": "du5a3oh7chb",
   "metadata": {},
   "source": [
    "### Sample Record Analysis\n",
    "\n",
    "Let's examine a detailed record to understand the data structure:"
   ]
  },
  {
   "cell_type": "code",
   "execution_count": 356,
   "id": "19c89659",
   "metadata": {},
   "outputs": [],
   "source": [
    "# read 'ESCI_MM-Food-100K_Example__preview_.csv'\n",
    "esci_df = pd.read_csv(\n",
    "    os.path.join(data_folder, \"ESCI_MM-Food-100K_Example__preview_.csv\")\n",
    ")"
   ]
  },
  {
   "cell_type": "code",
   "execution_count": 373,
   "id": "81a185af",
   "metadata": {},
   "outputs": [
    {
     "data": {
      "text/plain": [
       "example_id                                                                                             Q001_C001\n",
       "query_id                                                                                                    Q001\n",
       "query_text                                                                         vegan pad thai under 600 kcal\n",
       "query_type                                                                                             dish_name\n",
       "query_filters                                                                  {\"diet\": \"vegan\", \"max_cal\": 600}\n",
       "query_source                                                                                           synthetic\n",
       "candidate_id                                                                                              C-0001\n",
       "candidate_image_url                                                                       mmfood/images/0001.jpg\n",
       "candidate_dish_name                                                                               Vegan Pad Thai\n",
       "candidate_food_type                                                                                       recipe\n",
       "candidate_ingredients                            [\"rice noodles\", \"tofu\", \"peanuts\", \"tamarind\", \"bean sprouts\"]\n",
       "candidate_portion_size                                                                                 1 serving\n",
       "candidate_nutritional_profile                     {\"calories\": 540, \"protein_g\": 18, \"carbs_g\": 70, \"fat_g\": 15}\n",
       "candidate_cooking_method                                                                                stir-fry\n",
       "ingredient_jaccard                                                                                           0.8\n",
       "nutrition_distance                                                                                          0.05\n",
       "image_sim                                                                                                   0.92\n",
       "pair_features                    {\"same_dish_name\": 1, \"shares_primary_ingredient\": 1, \"same_cooking_method\": 1}\n",
       "esci_label                                                                                                 Exact\n",
       "labeler_id                                                                                                  auto\n",
       "label_confidence                                                                                            0.95\n",
       "label_reason                                                          Matches dish name and kcal below threshold\n",
       "auto_label_score                                                                                            0.98\n",
       "split                                                                                                      train\n",
       "created_at                                                                           2025-09-15T02:48:45.845317Z\n",
       "notes                                                                                                        NaN\n",
       "Name: 0, dtype: object"
      ]
     },
     "execution_count": 373,
     "metadata": {},
     "output_type": "execute_result"
    }
   ],
   "source": [
    "esci_df.iloc[0]"
   ]
  },
  {
   "cell_type": "markdown",
   "id": "3wcmsmpniby",
   "metadata": {},
   "source": [
    "## 3. ESCI Food Dataset\n",
    "\n",
    "This dataset applies the ESCI framework to food domain with image queries and candidate food items. It includes visual similarity scores and food-specific features."
   ]
  },
  {
   "cell_type": "code",
   "execution_count": 357,
   "id": "c12103e0",
   "metadata": {},
   "outputs": [
    {
     "data": {
      "text/plain": [
       "(9, 26)"
      ]
     },
     "execution_count": 357,
     "metadata": {},
     "output_type": "execute_result"
    }
   ],
   "source": [
    "esci_df.shape"
   ]
  },
  {
   "cell_type": "markdown",
   "id": "j2co988c77r",
   "metadata": {},
   "source": [
    "**Small preview dataset**: 9 examples with 26 detailed features\n",
    "\n",
    "This appears to be a preview of the full ESCI food dataset, showing the rich feature engineering applied to food search scenarios."
   ]
  },
  {
   "cell_type": "code",
   "execution_count": 358,
   "id": "21d6a1d2",
   "metadata": {},
   "outputs": [
    {
     "data": {
      "text/plain": [
       "example_id                                                                                               Q001_C003\n",
       "query_id                                                                                                      Q001\n",
       "query_text                                                                           vegan pad thai under 600 kcal\n",
       "query_type                                                                                               dish_name\n",
       "query_filters                                                                    {\"diet\": \"vegan\", \"max_cal\": 600}\n",
       "query_source                                                                                             synthetic\n",
       "candidate_id                                                                                                C-0003\n",
       "candidate_image_url                                                                         mmfood/images/0003.jpg\n",
       "candidate_dish_name                                                                              Mango Sticky Rice\n",
       "candidate_food_type                                                                                        dessert\n",
       "candidate_ingredients                                         [\"mango\", \"glutinous rice\", \"coconut milk\", \"sugar\"]\n",
       "candidate_portion_size                                                                                   1 serving\n",
       "candidate_nutritional_profile                         {\"calories\": 400, \"protein_g\": 4, \"carbs_g\": 80, \"fat_g\": 6}\n",
       "candidate_cooking_method                                                                                      boil\n",
       "ingredient_jaccard                                                                                            0.05\n",
       "nutrition_distance                                                                                             0.3\n",
       "image_sim                                                                                                     0.22\n",
       "pair_features                    {\"same_dish_name\": 0, \"shares_primary_ingredient\": 0, \"cooccurrence_score\": 0.67}\n",
       "esci_label                                                                                              Complement\n",
       "labeler_id                                                                                      human_annotator_04\n",
       "label_confidence                                                                                               0.9\n",
       "label_reason                                                            Commonly served as dessert with Thai mains\n",
       "auto_label_score                                                                                               0.7\n",
       "split                                                                                                        train\n",
       "created_at                                                                             2025-09-15T02:48:45.845317Z\n",
       "notes                                                                                                          NaN\n",
       "Name: 2, dtype: object"
      ]
     },
     "execution_count": 358,
     "metadata": {},
     "output_type": "execute_result"
    }
   ],
   "source": [
    "esci_df.sample(1).iloc[0]"
   ]
  },
  {
   "cell_type": "markdown",
   "id": "6qh3sxpxzae",
   "metadata": {},
   "source": [
    "**Key Food-Specific Features:**\n",
    "\n",
    "1. **Visual Query Support**: `query_type: \"image_query\"` - Supports image-based food search\n",
    "2. **Food-Specific Similarity Metrics**:\n",
    "   - `ingredient_jaccard: 0.25` - Ingredient overlap score\n",
    "   - `nutrition_distance: 0.1` - Nutritional similarity\n",
    "   - `image_sim: 0.72` - Visual similarity\n",
    "3. **Rich Candidate Metadata**: Full nutritional profiles, cooking methods, ingredients\n",
    "4. **ESCI Label**: \"Substitute\" - Shows different protein but visual similarity\n",
    "5. **Human + AI Labeling**: Both human annotators and confidence scores\n",
    "\n",
    "This demonstrates how ESCI framework can be enhanced for food domain with domain-specific similarity metrics."
   ]
  },
  {
   "cell_type": "markdown",
   "id": "udn5vmeef6",
   "metadata": {},
   "source": [
    "### ESCI Food Framework Analysis\n",
    "\n",
    "This sample shows the adaptation of ESCI to food domain:"
   ]
  },
  {
   "cell_type": "code",
   "execution_count": 359,
   "id": "77c0514e",
   "metadata": {},
   "outputs": [],
   "source": [
    "df_342 = pd.read_csv(os.path.join(data_folder, \"3A2M.csv\"))"
   ]
  },
  {
   "cell_type": "markdown",
   "id": "pwaivfuzu",
   "metadata": {},
   "source": [
    "## 4. 3A2M Recipe Dataset\n",
    "\n",
    "A massive dataset of 2.2M+ recipes with ingredients, cooking directions, and genre classifications."
   ]
  },
  {
   "cell_type": "code",
   "execution_count": 360,
   "id": "1f2eea94",
   "metadata": {},
   "outputs": [
    {
     "data": {
      "text/plain": [
       "Unnamed: 0                                                                                                                                                                                                               25245\n",
       "title                                                                                                                                                                                                          Orange Scallops\n",
       "directions    [\"Combine zest, juice, oil and scallops in a plastic bag; refrigerate 1 hour.\", \"Broil scallops 4 inches from heat, 6 minutes until dull in color.\", \"Add parsley.\", \"(136 calories, 19 protein, 4 grams fat.)\"]\n",
       "NER                                                                                                                                                    [\"orange zest\", \"olive oil\", \"parsley\", \"orange juice\", \"bay scallops\"]\n",
       "genre                                                                                                                                                                                                                   drinks\n",
       "label                                                                                                                                                                                                                        2\n",
       "Name: 558457, dtype: object"
      ]
     },
     "execution_count": 360,
     "metadata": {},
     "output_type": "execute_result"
    }
   ],
   "source": [
    "df_342.sample(1).iloc[0]"
   ]
  },
  {
   "cell_type": "markdown",
   "id": "fyxn172mi3t",
   "metadata": {},
   "source": [
    "**Key Features:**\n",
    "- **Detailed directions**: Step-by-step cooking instructions\n",
    "- **Named Entity Recognition (NER)**: Extracted ingredients list\n",
    "- **Genre classification**: Categorized as \"drinks\" (may need review)\n",
    "- **Numerical labels**: Multi-class categorization system\n",
    "\n",
    "The recipe provides rich textual data that could complement the image-based MM-Food-100K dataset."
   ]
  },
  {
   "cell_type": "markdown",
   "id": "g0xgn5jwv3",
   "metadata": {},
   "source": [
    "### Recipe Structure Analysis\n",
    "\n",
    "This \"Sherried Orange Chicken\" recipe demonstrates the rich recipe data:"
   ]
  },
  {
   "cell_type": "code",
   "execution_count": null,
   "id": "ba38e719",
   "metadata": {},
   "outputs": [
    {
     "data": {
      "text/plain": [
       "label\n",
       "4    398677\n",
       "2    353938\n",
       "6    340495\n",
       "8    338497\n",
       "3    315828\n",
       "5    177109\n",
       "1    160712\n",
       "9     92630\n",
       "7     53257\n",
       "Name: count, dtype: int64"
      ]
     },
     "execution_count": 361,
     "metadata": {},
     "output_type": "execute_result"
    }
   ],
   "source": [
    "df_342[\"label\"].value_counts()"
   ]
  },
  {
   "cell_type": "markdown",
   "id": "gq5mod109db",
   "metadata": {},
   "source": [
    "### Label Distribution Analysis\n",
    "\n",
    "The numerical labels show interesting patterns:"
   ]
  },
  {
   "cell_type": "code",
   "execution_count": null,
   "id": "85188f8e",
   "metadata": {},
   "outputs": [
    {
     "data": {
      "text/plain": [
       "genre\n",
       "vegetables    398677\n",
       "drinks        353938\n",
       "cereal        340496\n",
       "sides         338497\n",
       "nonveg        315828\n",
       "fastfood      177108\n",
       "bakery        160711\n",
       "fusion         84800\n",
       "meal           53258\n",
       "Fusion          7830\n",
       "Name: count, dtype: int64"
      ]
     },
     "execution_count": 362,
     "metadata": {},
     "output_type": "execute_result"
    }
   ],
   "source": [
    "df_342[\"genre\"].value_counts()"
   ]
  },
  {
   "cell_type": "markdown",
   "id": "up7cvzczew",
   "metadata": {},
   "source": [
    "**Observations:**\n",
    "- **Vegetables dominate** (398K recipes) - Good coverage for plant-based queries\n",
    "- **Drinks and cereals** well represented - Broad food category coverage\n",
    "- **Non-vegetarian dishes** substantial (315K) - Good protein variety\n",
    "- **Genre diversity** - From fastfood to fusion cuisine\n",
    "- **Note**: Some categorizations may need review (e.g., chicken dish labeled as \"drinks\")"
   ]
  },
  {
   "cell_type": "markdown",
   "id": "f6reizzd6re",
   "metadata": {},
   "source": [
    "### Genre Distribution Analysis\n",
    "\n",
    "The genre distribution reveals the recipe dataset's coverage:"
   ]
  },
  {
   "cell_type": "code",
   "execution_count": 25,
   "id": "712b9575",
   "metadata": {},
   "outputs": [
    {
     "data": {
      "text/plain": [
       "(2231143, 6)"
      ]
     },
     "execution_count": 25,
     "metadata": {},
     "output_type": "execute_result"
    }
   ],
   "source": [
    "df_342.shape"
   ]
  },
  {
   "cell_type": "markdown",
   "id": "aysl21c3md",
   "metadata": {},
   "source": [
    "**Massive scale**: 2.23M recipes providing extensive textual recipe data to complement image datasets."
   ]
  },
  {
   "cell_type": "code",
   "execution_count": 26,
   "id": "7859ae39",
   "metadata": {},
   "outputs": [
    {
     "data": {
      "text/plain": [
       "5481       what is pizza in italian\n",
       "25261      what is tandoori chicken\n",
       "25748    what beef is used for stew\n",
       "12357           what is sponge cake\n",
       "21123         what is a butter cake\n",
       "Name: query, dtype: object"
      ]
     },
     "execution_count": 26,
     "metadata": {},
     "output_type": "execute_result"
    }
   ],
   "source": [
    "df_queries[\"query\"].sample(5)"
   ]
  },
  {
   "cell_type": "markdown",
   "id": "zrpxf78u0ll",
   "metadata": {},
   "source": [
    "**Query Types Observed:**\n",
    "\n",
    "1. **Definition queries**: \"what is a gazpacho\", \"what is red velvet cake\"\n",
    "2. **Translation queries**: \"what is pizza in italian\"  \n",
    "3. **Recipe requests**: \"KFC Fried Chicken Secret Recipe\", \"pumpkin pie spice recipe\"\n",
    "4. **Ingredient inquiries**: \"what are baby back ribs made from\"\n",
    "5. **Cooking instructions**: \"how to bake homemade pumpkin\"\n",
    "\n",
    "This diversity shows that food search involves multiple types of information needs beyond just finding dishes."
   ]
  },
  {
   "cell_type": "markdown",
   "id": "gr9tawhylmn",
   "metadata": {},
   "source": [
    "### Query Pattern Analysis\n",
    "\n",
    "These sample queries show different types of food-related search intents:"
   ]
  },
  {
   "cell_type": "markdown",
   "id": "0wfz2bvijo4a",
   "metadata": {},
   "source": [
    "## 5. Cooking Queries Analysis\n",
    "\n",
    "Returning to our cooking queries dataset to understand user intent patterns:"
   ]
  },
  {
   "cell_type": "code",
   "execution_count": 27,
   "id": "e9237895",
   "metadata": {},
   "outputs": [
    {
     "data": {
      "text/plain": [
       "(29557,)"
      ]
     },
     "execution_count": 27,
     "metadata": {},
     "output_type": "execute_result"
    }
   ],
   "source": [
    "df_queries[\"query\"].shape"
   ]
  },
  {
   "cell_type": "markdown",
   "id": "zt76pvkcyu",
   "metadata": {},
   "source": [
    "**Query dataset size**: 29,557 cooking-related queries providing diverse search intent patterns."
   ]
  },
  {
   "cell_type": "markdown",
   "id": "55be9ae0",
   "metadata": {},
   "source": [
    "## Key Insights & Query2Dish Model Implications\n",
    "\n",
    "### Dataset Complementarity\n",
    "\n",
    "Our exploration reveals four complementary datasets that together provide comprehensive food search capabilities:\n",
    "\n",
    "| Dataset | Scale | Strength | Use Case |\n",
    "|---------|-------|----------|----------|\n",
    "| **MM-Food-100K** | 100K images | Rich visual + metadata | Image-based food search |\n",
    "| **ESCI Food** | 9 examples (preview) | ESCI framework adaptation | Relevance labeling patterns |\n",
    "| **3A2M Recipes** | 2.2M recipes | Detailed cooking instructions | Recipe recommendations |\n",
    "| **Cooking Queries** | 29K queries | Natural language patterns | Query understanding |\n",
    "\n",
    "### Food-Specific ESCI Adaptations\n",
    "\n",
    "The ESCI food dataset demonstrates key enhancements for culinary search:\n",
    "\n",
    "1. **Multi-modal queries**: Support for both text and image queries\n",
    "2. **Food-specific similarity metrics**:\n",
    "   - Ingredient overlap (Jaccard similarity)\n",
    "   - Nutritional distance\n",
    "   - Visual appearance matching\n",
    "3. **Rich candidate metadata**: Nutritional profiles, cooking methods, ingredients\n",
    "4. **Domain expertise**: Human food annotators with culinary knowledge\n",
    "\n",
    "### Query2Dish Model Architecture Recommendations\n",
    "\n",
    "**Multi-Dataset Integration Strategy**:\n",
    "- **MM-Food-100K**: Primary candidate database with visual + metadata\n",
    "- **3A2M Recipes**: Extended candidate pool for recipe-specific queries  \n",
    "- **Cooking Queries**: Training data for query intent classification\n",
    "- **ESCI Food**: Relevance labeling methodology and feature engineering\n",
    "\n",
    "**Search Pipeline Design**:\n",
    "1. **Query Classification**: Identify intent type (recipe, definition, ingredient, etc.)\n",
    "2. **Candidate Retrieval**: Search appropriate dataset(s) based on query type\n",
    "3. **Multi-Modal Matching**: Combine text, visual, and nutritional similarity\n",
    "4. **ESCI Ranking**: Apply food-adapted ESCI framework for relevance scoring\n",
    "\n",
    "### Next Steps for Implementation\n",
    "\n",
    "1. **Data Integration**: Merge datasets with consistent schema\n",
    "2. **Feature Engineering**: Implement food-specific similarity metrics\n",
    "3. **Model Training**: Use cooking queries for intent classification\n",
    "4. **Evaluation Framework**: Adapt ESCI metrics for food domain validation\n",
    "\n",
    "The combination of these datasets provides a solid foundation for building a comprehensive food search system that handles diverse query types and leverages both visual and textual food information."
   ]
  },
  {
   "cell_type": "code",
   "execution_count": null,
   "id": "d6086226",
   "metadata": {},
   "outputs": [],
   "source": []
  }
 ],
 "metadata": {
  "kernelspec": {
   "display_name": "masala-embed",
   "language": "python",
   "name": "python3"
  },
  "language_info": {
   "codemirror_mode": {
    "name": "ipython",
    "version": 3
   },
   "file_extension": ".py",
   "mimetype": "text/x-python",
   "name": "python",
   "nbconvert_exporter": "python",
   "pygments_lexer": "ipython3",
   "version": "3.12.8"
  }
 },
 "nbformat": 4,
 "nbformat_minor": 5
}
