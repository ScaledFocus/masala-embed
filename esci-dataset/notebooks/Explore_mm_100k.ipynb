{
 "cells": [
  {
   "cell_type": "markdown",
   "id": "1913c9b2",
   "metadata": {},
   "source": [
    "# MM-Food-100K Dataset Exploration\n",
    "\n",
    "This notebook explores multiple food-related datasets to understand their structure, content, and potential for building the Query2Dish model:\n",
    "\n",
    "## Datasets Overview\n",
    "\n",
    "1. **MM-Food-100K**: 100,000 food images with rich metadata (dishes, ingredients, nutrition)\n",
    "2. **ESCI Food Dataset**: ESCI-labeled food query-image pairs with visual similarity scores\n",
    "3. **3A2M Recipe Dataset**: 2.2M recipes with ingredients, directions, and genre classifications\n",
    "4. **Cooking Queries**: 29K+ natural language food queries\n",
    "\n",
    "## Goals\n",
    "\n",
    "- Analyze the structure and quality of each dataset\n",
    "- Understand the relationships between queries, images, and recipes\n",
    "- Identify opportunities for ESCI framework adaptation to food domain\n",
    "- Assess datasets for training Query2Dish search model"
   ]
  },
  {
   "cell_type": "markdown",
   "id": "48fc81b5",
   "metadata": {},
   "source": [
    "## Setup and Data Loading\n",
    "\n",
    "### Import Libraries and Configuration"
   ]
  },
  {
   "cell_type": "code",
   "execution_count": 9,
   "id": "2716fe75",
   "metadata": {},
   "outputs": [],
   "source": [
    "import os\n",
    "\n",
    "import pandas as pd\n",
    "\n",
    "pd.set_option(\"display.max_columns\", None)\n",
    "pd.set_option(\"display.max_colwidth\", None)\n",
    "pd.set_option(\"display.width\", 0)"
   ]
  },
  {
   "cell_type": "markdown",
   "id": "5c580a8f",
   "metadata": {},
   "source": [
    "### Dataset Files Discovery\n",
    "\n",
    "Let's examine what food-related datasets are available in our data directory."
   ]
  },
  {
   "cell_type": "code",
   "execution_count": 10,
   "id": "91ce2c1d",
   "metadata": {},
   "outputs": [],
   "source": [
    "# list in data folder\n",
    "data_folder = \"/Users/luvsuneja/Documents/repos/masala-embed/esci-dataset/data\""
   ]
  },
  {
   "cell_type": "code",
   "execution_count": 11,
   "id": "bcdc5c7a",
   "metadata": {},
   "outputs": [
    {
     "name": "stdout",
     "output_type": "stream",
     "text": [
      "['shopping_queries_dataset_examples.parquet', 'shopping_queries_dataset_products.parquet', 'shopping_queries_dataset_sources.csv', 'ESCI_MM-Food-100K_Example__preview_.csv', 'MM-Food-100K.csv', '3A2M.csv', 'cooking_queries_all.txt']\n"
     ]
    }
   ],
   "source": [
    "# print all files in data folder\n",
    "print(os.listdir(data_folder))"
   ]
  },
  {
   "cell_type": "markdown",
   "id": "rhfgmd40kab",
   "metadata": {},
   "source": [
    "We can see several food-related datasets:\n",
    "\n",
    "**Food-specific datasets:**\n",
    "- `MM-Food-100K.csv` - Main food images dataset\n",
    "- `ESCI_MM-Food-100K_Example__preview_.csv` - ESCI-labeled food examples\n",
    "- `3A2M.csv` - Recipe dataset with 2M+ recipes\n",
    "- `cooking_queries_all.txt` - Natural language food queries\n",
    "\n",
    "**Original ESCI datasets:**\n",
    "- `shopping_queries_dataset_*` - Original Amazon ESCI data for comparison"
   ]
  },
  {
   "cell_type": "code",
   "execution_count": 12,
   "id": "e0b20193",
   "metadata": {},
   "outputs": [],
   "source": [
    "# read 'cooking_queries_all.txt'\n",
    "df_queries = pd.read_csv(\n",
    "    os.path.join(data_folder, \"cooking_queries_all.txt\"),\n",
    "    sep=\"\\t\",\n",
    "    header=None,\n",
    "    names=[\"query\"],\n",
    ")"
   ]
  },
  {
   "cell_type": "markdown",
   "id": "u3t3fzodb7l",
   "metadata": {},
   "source": [
    "## 1. Cooking Queries Dataset\n",
    "\n",
    "First, let's explore the natural language cooking queries to understand what users search for."
   ]
  },
  {
   "cell_type": "code",
   "execution_count": 13,
   "id": "6a929f19",
   "metadata": {},
   "outputs": [
    {
     "data": {
      "text/html": [
       "<div>\n",
       "<style scoped>\n",
       "    .dataframe tbody tr th:only-of-type {\n",
       "        vertical-align: middle;\n",
       "    }\n",
       "\n",
       "    .dataframe tbody tr th {\n",
       "        vertical-align: top;\n",
       "    }\n",
       "\n",
       "    .dataframe thead th {\n",
       "        text-align: right;\n",
       "    }\n",
       "</style>\n",
       "<table border=\"1\" class=\"dataframe\">\n",
       "  <thead>\n",
       "    <tr style=\"text-align: right;\">\n",
       "      <th></th>\n",
       "      <th>query</th>\n",
       "    </tr>\n",
       "  </thead>\n",
       "  <tbody>\n",
       "    <tr>\n",
       "      <th>11925</th>\n",
       "      <td>what is chimichurri</td>\n",
       "    </tr>\n",
       "    <tr>\n",
       "      <th>1717</th>\n",
       "      <td>cooking time for baked chicken breast</td>\n",
       "    </tr>\n",
       "    <tr>\n",
       "      <th>10425</th>\n",
       "      <td>how to cook pork chops in gravy</td>\n",
       "    </tr>\n",
       "    <tr>\n",
       "      <th>28946</th>\n",
       "      <td>what is mole sauce</td>\n",
       "    </tr>\n",
       "    <tr>\n",
       "      <th>883</th>\n",
       "      <td>what is sponge cake</td>\n",
       "    </tr>\n",
       "  </tbody>\n",
       "</table>\n",
       "</div>"
      ],
      "text/plain": [
       "                                       query\n",
       "11925                    what is chimichurri\n",
       "1717   cooking time for baked chicken breast\n",
       "10425        how to cook pork chops in gravy\n",
       "28946                     what is mole sauce\n",
       "883                      what is sponge cake"
      ]
     },
     "execution_count": 13,
     "metadata": {},
     "output_type": "execute_result"
    }
   ],
   "source": [
    "df_queries.sample(5)"
   ]
  },
  {
   "cell_type": "code",
   "execution_count": 14,
   "id": "9b5b59e0",
   "metadata": {},
   "outputs": [],
   "source": [
    "# read mm-food-100k.csv\n",
    "df_mm_food = pd.read_csv(os.path.join(data_folder, \"mm-food-100k.csv\"))"
   ]
  },
  {
   "cell_type": "markdown",
   "id": "2vt8fkc49gm",
   "metadata": {},
   "source": [
    "## 2. MM-Food-100K Dataset\n",
    "\n",
    "This is the main food images dataset with 100,000 entries containing rich metadata about dishes, ingredients, nutrition, and cooking methods."
   ]
  },
  {
   "cell_type": "code",
   "execution_count": 15,
   "id": "0dac5db5",
   "metadata": {},
   "outputs": [
    {
     "data": {
      "text/html": [
       "<div>\n",
       "<style scoped>\n",
       "    .dataframe tbody tr th:only-of-type {\n",
       "        vertical-align: middle;\n",
       "    }\n",
       "\n",
       "    .dataframe tbody tr th {\n",
       "        vertical-align: top;\n",
       "    }\n",
       "\n",
       "    .dataframe thead th {\n",
       "        text-align: right;\n",
       "    }\n",
       "</style>\n",
       "<table border=\"1\" class=\"dataframe\">\n",
       "  <thead>\n",
       "    <tr style=\"text-align: right;\">\n",
       "      <th></th>\n",
       "      <th>image_url</th>\n",
       "      <th>camera_or_phone_prob</th>\n",
       "      <th>food_prob</th>\n",
       "      <th>dish_name</th>\n",
       "      <th>food_type</th>\n",
       "      <th>ingredients</th>\n",
       "      <th>portion_size</th>\n",
       "      <th>nutritional_profile</th>\n",
       "      <th>cooking_method</th>\n",
       "      <th>sub_dt</th>\n",
       "    </tr>\n",
       "  </thead>\n",
       "  <tbody>\n",
       "    <tr>\n",
       "      <th>0</th>\n",
       "      <td>https://file.b18a.io/7843322356500104680_443548_.jpeg</td>\n",
       "      <td>0.7</td>\n",
       "      <td>0.95</td>\n",
       "      <td>Fried Chicken</td>\n",
       "      <td>Restaurant food</td>\n",
       "      <td>[\"chicken\",\"breading\",\"oil\"]</td>\n",
       "      <td>[\"chicken:300g\"]</td>\n",
       "      <td>{\"fat_g\":25.0,\"protein_g\":30.0,\"calories_kcal\":400,\"carbohydrate_g\":15.0}</td>\n",
       "      <td>Frying</td>\n",
       "      <td>20250704</td>\n",
       "    </tr>\n",
       "    <tr>\n",
       "      <th>1</th>\n",
       "      <td>https://file.b18a.io/7833227147700100732_674878_.jpeg</td>\n",
       "      <td>0.7</td>\n",
       "      <td>1.00</td>\n",
       "      <td>Pho</td>\n",
       "      <td>Restaurant food</td>\n",
       "      <td>[\"noodles\",\"beef\",\"basil\",\"lime\",\"green onions\",\"chili\"]</td>\n",
       "      <td>[\"noodles:200g\",\"beef:100g\",\"vegetables:50g\"]</td>\n",
       "      <td>{\"fat_g\":15.0,\"protein_g\":25.0,\"calories_kcal\":450,\"carbohydrate_g\":60.0}</td>\n",
       "      <td>boiled</td>\n",
       "      <td>20250702</td>\n",
       "    </tr>\n",
       "    <tr>\n",
       "      <th>2</th>\n",
       "      <td>https://file.b18a.io/7832600581600103585_264234_.jpg</td>\n",
       "      <td>0.8</td>\n",
       "      <td>0.95</td>\n",
       "      <td>Pan-fried Dumplings</td>\n",
       "      <td>Restaurant food</td>\n",
       "      <td>[\"dumplings\",\"chili oil\",\"soy sauce\"]</td>\n",
       "      <td>[\"dumplings:300g\",\"sauce:50g\"]</td>\n",
       "      <td>{\"fat_g\":15.0,\"protein_g\":20.0,\"calories_kcal\":400,\"carbohydrate_g\":50.0}</td>\n",
       "      <td>Pan-frying</td>\n",
       "      <td>20250625</td>\n",
       "    </tr>\n",
       "    <tr>\n",
       "      <th>3</th>\n",
       "      <td>https://file.b18a.io/7839056601700101188_985151_.jpg</td>\n",
       "      <td>0.7</td>\n",
       "      <td>1.00</td>\n",
       "      <td>Bananas</td>\n",
       "      <td>Raw vegetables and fruits</td>\n",
       "      <td>[\"Bananas\"]</td>\n",
       "      <td>[\"Bananas: 10 pieces (about 1kg)\"]</td>\n",
       "      <td>{\"fat_g\":3.0,\"protein_g\":12.0,\"calories_kcal\":1050,\"carbohydrate_g\":270.0}</td>\n",
       "      <td>Raw</td>\n",
       "      <td>20250718</td>\n",
       "    </tr>\n",
       "    <tr>\n",
       "      <th>4</th>\n",
       "      <td>https://file.b18a.io/7837642737500100261_173129_.jpeg</td>\n",
       "      <td>0.8</td>\n",
       "      <td>0.90</td>\n",
       "      <td>Noodle Stir-Fry</td>\n",
       "      <td>Restaurant food</td>\n",
       "      <td>[\"noodles\",\"chicken\",\"vegetables\",\"sauce\"]</td>\n",
       "      <td>[\"noodles:300g\",\"chicken:100g\",\"vegetables:50g\"]</td>\n",
       "      <td>{\"fat_g\":20.0,\"protein_g\":25.0,\"calories_kcal\":600,\"carbohydrate_g\":80.0}</td>\n",
       "      <td>stir-fried</td>\n",
       "      <td>20250711</td>\n",
       "    </tr>\n",
       "  </tbody>\n",
       "</table>\n",
       "</div>"
      ],
      "text/plain": [
       "                                               image_url  \\\n",
       "0  https://file.b18a.io/7843322356500104680_443548_.jpeg   \n",
       "1  https://file.b18a.io/7833227147700100732_674878_.jpeg   \n",
       "2   https://file.b18a.io/7832600581600103585_264234_.jpg   \n",
       "3   https://file.b18a.io/7839056601700101188_985151_.jpg   \n",
       "4  https://file.b18a.io/7837642737500100261_173129_.jpeg   \n",
       "\n",
       "   camera_or_phone_prob  food_prob            dish_name  \\\n",
       "0                   0.7       0.95        Fried Chicken   \n",
       "1                   0.7       1.00                  Pho   \n",
       "2                   0.8       0.95  Pan-fried Dumplings   \n",
       "3                   0.7       1.00              Bananas   \n",
       "4                   0.8       0.90      Noodle Stir-Fry   \n",
       "\n",
       "                   food_type  \\\n",
       "0            Restaurant food   \n",
       "1            Restaurant food   \n",
       "2            Restaurant food   \n",
       "3  Raw vegetables and fruits   \n",
       "4            Restaurant food   \n",
       "\n",
       "                                                ingredients  \\\n",
       "0                              [\"chicken\",\"breading\",\"oil\"]   \n",
       "1  [\"noodles\",\"beef\",\"basil\",\"lime\",\"green onions\",\"chili\"]   \n",
       "2                     [\"dumplings\",\"chili oil\",\"soy sauce\"]   \n",
       "3                                               [\"Bananas\"]   \n",
       "4                [\"noodles\",\"chicken\",\"vegetables\",\"sauce\"]   \n",
       "\n",
       "                                       portion_size  \\\n",
       "0                                  [\"chicken:300g\"]   \n",
       "1     [\"noodles:200g\",\"beef:100g\",\"vegetables:50g\"]   \n",
       "2                    [\"dumplings:300g\",\"sauce:50g\"]   \n",
       "3                [\"Bananas: 10 pieces (about 1kg)\"]   \n",
       "4  [\"noodles:300g\",\"chicken:100g\",\"vegetables:50g\"]   \n",
       "\n",
       "                                                          nutritional_profile  \\\n",
       "0   {\"fat_g\":25.0,\"protein_g\":30.0,\"calories_kcal\":400,\"carbohydrate_g\":15.0}   \n",
       "1   {\"fat_g\":15.0,\"protein_g\":25.0,\"calories_kcal\":450,\"carbohydrate_g\":60.0}   \n",
       "2   {\"fat_g\":15.0,\"protein_g\":20.0,\"calories_kcal\":400,\"carbohydrate_g\":50.0}   \n",
       "3  {\"fat_g\":3.0,\"protein_g\":12.0,\"calories_kcal\":1050,\"carbohydrate_g\":270.0}   \n",
       "4   {\"fat_g\":20.0,\"protein_g\":25.0,\"calories_kcal\":600,\"carbohydrate_g\":80.0}   \n",
       "\n",
       "  cooking_method    sub_dt  \n",
       "0         Frying  20250704  \n",
       "1         boiled  20250702  \n",
       "2     Pan-frying  20250625  \n",
       "3            Raw  20250718  \n",
       "4     stir-fried  20250711  "
      ]
     },
     "execution_count": 15,
     "metadata": {},
     "output_type": "execute_result"
    }
   ],
   "source": [
    "df_mm_food.head()"
   ]
  },
  {
   "cell_type": "markdown",
   "id": "j0mjby551dl",
   "metadata": {},
   "source": [
    "### Dataset Structure\n",
    "\n",
    "Each record contains:"
   ]
  },
  {
   "cell_type": "code",
   "execution_count": 16,
   "id": "95822c84",
   "metadata": {},
   "outputs": [
    {
     "data": {
      "text/plain": [
       "(100000, 10)"
      ]
     },
     "execution_count": 16,
     "metadata": {},
     "output_type": "execute_result"
    }
   ],
   "source": [
    "df_mm_food.shape"
   ]
  },
  {
   "cell_type": "markdown",
   "id": "z7go37biq3q",
   "metadata": {},
   "source": [
    "**Dataset size**: 100,000 food images with complete metadata\n",
    "\n",
    "### Key Fields Analysis\n",
    "\n",
    "- **image_url**: Links to food images\n",
    "- **food_prob**: Confidence score that image contains food (0.90-1.00)\n",
    "- **dish_name**: Human-readable dish names\n",
    "- **ingredients**: JSON array of ingredients\n",
    "- **nutritional_profile**: Structured nutrition data (calories, macros)\n",
    "- **cooking_method**: Cooking technique used"
   ]
  },
  {
   "cell_type": "code",
   "execution_count": 17,
   "id": "e8c07dde",
   "metadata": {},
   "outputs": [
    {
     "data": {
      "text/plain": [
       "image_url                                   https://file.b18a.io/7833227147700100732_674878_.jpeg\n",
       "camera_or_phone_prob                                                                          0.7\n",
       "food_prob                                                                                     1.0\n",
       "dish_name                                                                                     Pho\n",
       "food_type                                                                         Restaurant food\n",
       "ingredients                              [\"noodles\",\"beef\",\"basil\",\"lime\",\"green onions\",\"chili\"]\n",
       "portion_size                                        [\"noodles:200g\",\"beef:100g\",\"vegetables:50g\"]\n",
       "nutritional_profile     {\"fat_g\":15.0,\"protein_g\":25.0,\"calories_kcal\":450,\"carbohydrate_g\":60.0}\n",
       "cooking_method                                                                             boiled\n",
       "sub_dt                                                                                   20250702\n",
       "Name: 1, dtype: object"
      ]
     },
     "execution_count": 17,
     "metadata": {},
     "output_type": "execute_result"
    }
   ],
   "source": [
    "df_mm_food.loc[1]"
   ]
  },
  {
   "cell_type": "markdown",
   "id": "3uwtewo7xsj",
   "metadata": {},
   "source": [
    "This Pho record shows:\n",
    "- **Rich ingredient data**: Detailed ingredient lists as JSON arrays\n",
    "- **Nutritional information**: Structured macro and calorie data\n",
    "- **Portion sizing**: Specific measurements for ingredients\n",
    "- **Cooking methods**: Standardized cooking techniques"
   ]
  },
  {
   "cell_type": "markdown",
   "id": "du5a3oh7chb",
   "metadata": {},
   "source": [
    "### Sample Record Analysis\n",
    "\n",
    "Let's examine a detailed record to understand the data structure:"
   ]
  },
  {
   "cell_type": "code",
   "execution_count": 18,
   "id": "19c89659",
   "metadata": {},
   "outputs": [],
   "source": [
    "# read 'ESCI_MM-Food-100K_Example__preview_.csv'\n",
    "esci_df = pd.read_csv(\n",
    "    os.path.join(data_folder, \"ESCI_MM-Food-100K_Example__preview_.csv\")\n",
    ")"
   ]
  },
  {
   "cell_type": "markdown",
   "id": "3wcmsmpniby",
   "metadata": {},
   "source": [
    "## 3. ESCI Food Dataset\n",
    "\n",
    "This dataset applies the ESCI framework to food domain with image queries and candidate food items. It includes visual similarity scores and food-specific features."
   ]
  },
  {
   "cell_type": "code",
   "execution_count": 19,
   "id": "c12103e0",
   "metadata": {},
   "outputs": [
    {
     "data": {
      "text/plain": [
       "(9, 26)"
      ]
     },
     "execution_count": 19,
     "metadata": {},
     "output_type": "execute_result"
    }
   ],
   "source": [
    "esci_df.shape"
   ]
  },
  {
   "cell_type": "markdown",
   "id": "j2co988c77r",
   "metadata": {},
   "source": [
    "**Small preview dataset**: 9 examples with 26 detailed features\n",
    "\n",
    "This appears to be a preview of the full ESCI food dataset, showing the rich feature engineering applied to food search scenarios."
   ]
  },
  {
   "cell_type": "code",
   "execution_count": 20,
   "id": "21d6a1d2",
   "metadata": {},
   "outputs": [
    {
     "data": {
      "text/plain": [
       "example_id                                                                                             Q001_C001\n",
       "query_id                                                                                                    Q001\n",
       "query_text                                                                         vegan pad thai under 600 kcal\n",
       "query_type                                                                                             dish_name\n",
       "query_filters                                                                  {\"diet\": \"vegan\", \"max_cal\": 600}\n",
       "query_source                                                                                           synthetic\n",
       "candidate_id                                                                                              C-0001\n",
       "candidate_image_url                                                                       mmfood/images/0001.jpg\n",
       "candidate_dish_name                                                                               Vegan Pad Thai\n",
       "candidate_food_type                                                                                       recipe\n",
       "candidate_ingredients                            [\"rice noodles\", \"tofu\", \"peanuts\", \"tamarind\", \"bean sprouts\"]\n",
       "candidate_portion_size                                                                                 1 serving\n",
       "candidate_nutritional_profile                     {\"calories\": 540, \"protein_g\": 18, \"carbs_g\": 70, \"fat_g\": 15}\n",
       "candidate_cooking_method                                                                                stir-fry\n",
       "ingredient_jaccard                                                                                           0.8\n",
       "nutrition_distance                                                                                          0.05\n",
       "image_sim                                                                                                   0.92\n",
       "pair_features                    {\"same_dish_name\": 1, \"shares_primary_ingredient\": 1, \"same_cooking_method\": 1}\n",
       "esci_label                                                                                                 Exact\n",
       "labeler_id                                                                                                  auto\n",
       "label_confidence                                                                                            0.95\n",
       "label_reason                                                          Matches dish name and kcal below threshold\n",
       "auto_label_score                                                                                            0.98\n",
       "split                                                                                                      train\n",
       "created_at                                                                           2025-09-15T02:48:45.845317Z\n",
       "notes                                                                                                        NaN\n",
       "Name: 0, dtype: object"
      ]
     },
     "execution_count": 20,
     "metadata": {},
     "output_type": "execute_result"
    }
   ],
   "source": [
    "esci_df.sample(1).iloc[0]"
   ]
  },
  {
   "cell_type": "markdown",
   "id": "6qh3sxpxzae",
   "metadata": {},
   "source": [
    "**Key Food-Specific Features:**\n",
    "\n",
    "1. **Visual Query Support**: `query_type: \"image_query\"` - Supports image-based food search\n",
    "2. **Food-Specific Similarity Metrics**:\n",
    "   - `ingredient_jaccard: 0.25` - Ingredient overlap score\n",
    "   - `nutrition_distance: 0.1` - Nutritional similarity\n",
    "   - `image_sim: 0.72` - Visual similarity\n",
    "3. **Rich Candidate Metadata**: Full nutritional profiles, cooking methods, ingredients\n",
    "4. **ESCI Label**: \"Substitute\" - Shows different protein but visual similarity\n",
    "5. **Human + AI Labeling**: Both human annotators and confidence scores\n",
    "\n",
    "This demonstrates how ESCI framework can be enhanced for food domain with domain-specific similarity metrics."
   ]
  },
  {
   "cell_type": "markdown",
   "id": "udn5vmeef6",
   "metadata": {},
   "source": [
    "### ESCI Food Framework Analysis\n",
    "\n",
    "This sample shows the adaptation of ESCI to food domain:"
   ]
  },
  {
   "cell_type": "code",
   "execution_count": 21,
   "id": "77c0514e",
   "metadata": {},
   "outputs": [],
   "source": [
    "df_342 = pd.read_csv(os.path.join(data_folder, \"3A2M.csv\"))"
   ]
  },
  {
   "cell_type": "markdown",
   "id": "pwaivfuzu",
   "metadata": {},
   "source": [
    "## 4. 3A2M Recipe Dataset\n",
    "\n",
    "A massive dataset of 2.2M+ recipes with ingredients, cooking directions, and genre classifications."
   ]
  },
  {
   "cell_type": "code",
   "execution_count": 22,
   "id": "1f2eea94",
   "metadata": {},
   "outputs": [
    {
     "data": {
      "text/plain": [
       "Unnamed: 0                                                                                                                                                                                         150728\n",
       "title                                                                                                                                                                                           Oven Stew\n",
       "directions    [\"Combine the first 9 ingredients in a pan.\", \"Bring to boil on top of stove, then cover and bake at 375\\u00b0 for 1 hour.\", \"Add vegetables and bake for 30 minutes.\", \"Remove bay leaf.\"]\n",
       "NER                                                                     [\"lean meat\", \"onion\", \"garlic\", \"tomato puree\", \"bay leaf\", \"oregano\", \"oil\", \"herb vinegar\", \"red wine\", \"potatoes\", \"carrots\"]\n",
       "genre                                                                                                                                                                                              nonveg\n",
       "label                                                                                                                                                                                                   3\n",
       "Name: 683940, dtype: object"
      ]
     },
     "execution_count": 22,
     "metadata": {},
     "output_type": "execute_result"
    }
   ],
   "source": [
    "df_342.sample(1).iloc[0]"
   ]
  },
  {
   "cell_type": "markdown",
   "id": "fyxn172mi3t",
   "metadata": {},
   "source": [
    "**Key Features:**\n",
    "- **Detailed directions**: Step-by-step cooking instructions\n",
    "- **Named Entity Recognition (NER)**: Extracted ingredients list\n",
    "- **Genre classification**: Categorized as \"drinks\" (may need review)\n",
    "- **Numerical labels**: Multi-class categorization system\n",
    "\n",
    "The recipe provides rich textual data that could complement the image-based MM-Food-100K dataset."
   ]
  },
  {
   "cell_type": "markdown",
   "id": "g0xgn5jwv3",
   "metadata": {},
   "source": [
    "### Recipe Structure Analysis\n",
    "\n",
    "This \"Sherried Orange Chicken\" recipe demonstrates the rich recipe data:"
   ]
  },
  {
   "cell_type": "code",
   "execution_count": 23,
   "id": "ba38e719",
   "metadata": {},
   "outputs": [
    {
     "data": {
      "text/plain": [
       "label\n",
       "4    398677\n",
       "2    353938\n",
       "6    340495\n",
       "8    338497\n",
       "3    315828\n",
       "5    177109\n",
       "1    160712\n",
       "9     92630\n",
       "7     53257\n",
       "Name: count, dtype: int64"
      ]
     },
     "execution_count": 23,
     "metadata": {},
     "output_type": "execute_result"
    }
   ],
   "source": [
    "df_342[\"label\"].value_counts()"
   ]
  },
  {
   "cell_type": "markdown",
   "id": "gq5mod109db",
   "metadata": {},
   "source": [
    "### Label Distribution Analysis\n",
    "\n",
    "The numerical labels show interesting patterns:"
   ]
  },
  {
   "cell_type": "code",
   "execution_count": 24,
   "id": "85188f8e",
   "metadata": {},
   "outputs": [
    {
     "data": {
      "text/plain": [
       "genre\n",
       "vegetables    398677\n",
       "drinks        353938\n",
       "cereal        340496\n",
       "sides         338497\n",
       "nonveg        315828\n",
       "fastfood      177108\n",
       "bakery        160711\n",
       "fusion         84800\n",
       "meal           53258\n",
       "Fusion          7830\n",
       "Name: count, dtype: int64"
      ]
     },
     "execution_count": 24,
     "metadata": {},
     "output_type": "execute_result"
    }
   ],
   "source": [
    "df_342[\"genre\"].value_counts()"
   ]
  },
  {
   "cell_type": "markdown",
   "id": "up7cvzczew",
   "metadata": {},
   "source": [
    "**Observations:**\n",
    "- **Vegetables dominate** (398K recipes) - Good coverage for plant-based queries\n",
    "- **Drinks and cereals** well represented - Broad food category coverage\n",
    "- **Non-vegetarian dishes** substantial (315K) - Good protein variety\n",
    "- **Genre diversity** - From fastfood to fusion cuisine\n",
    "- **Note**: Some categorizations may need review (e.g., chicken dish labeled as \"drinks\")"
   ]
  },
  {
   "cell_type": "markdown",
   "id": "f6reizzd6re",
   "metadata": {},
   "source": [
    "### Genre Distribution Analysis\n",
    "\n",
    "The genre distribution reveals the recipe dataset's coverage:"
   ]
  },
  {
   "cell_type": "code",
   "execution_count": 25,
   "id": "712b9575",
   "metadata": {},
   "outputs": [
    {
     "data": {
      "text/plain": [
       "(2231143, 6)"
      ]
     },
     "execution_count": 25,
     "metadata": {},
     "output_type": "execute_result"
    }
   ],
   "source": [
    "df_342.shape"
   ]
  },
  {
   "cell_type": "markdown",
   "id": "aysl21c3md",
   "metadata": {},
   "source": [
    "**Massive scale**: 2.23M recipes providing extensive textual recipe data to complement image datasets."
   ]
  },
  {
   "cell_type": "code",
   "execution_count": 26,
   "id": "7859ae39",
   "metadata": {},
   "outputs": [
    {
     "data": {
      "text/plain": [
       "5481       what is pizza in italian\n",
       "25261      what is tandoori chicken\n",
       "25748    what beef is used for stew\n",
       "12357           what is sponge cake\n",
       "21123         what is a butter cake\n",
       "Name: query, dtype: object"
      ]
     },
     "execution_count": 26,
     "metadata": {},
     "output_type": "execute_result"
    }
   ],
   "source": [
    "df_queries[\"query\"].sample(5)"
   ]
  },
  {
   "cell_type": "markdown",
   "id": "zrpxf78u0ll",
   "metadata": {},
   "source": [
    "**Query Types Observed:**\n",
    "\n",
    "1. **Definition queries**: \"what is a gazpacho\", \"what is red velvet cake\"\n",
    "2. **Translation queries**: \"what is pizza in italian\"  \n",
    "3. **Recipe requests**: \"KFC Fried Chicken Secret Recipe\", \"pumpkin pie spice recipe\"\n",
    "4. **Ingredient inquiries**: \"what are baby back ribs made from\"\n",
    "5. **Cooking instructions**: \"how to bake homemade pumpkin\"\n",
    "\n",
    "This diversity shows that food search involves multiple types of information needs beyond just finding dishes."
   ]
  },
  {
   "cell_type": "markdown",
   "id": "gr9tawhylmn",
   "metadata": {},
   "source": [
    "### Query Pattern Analysis\n",
    "\n",
    "These sample queries show different types of food-related search intents:"
   ]
  },
  {
   "cell_type": "markdown",
   "id": "0wfz2bvijo4a",
   "metadata": {},
   "source": [
    "## 5. Cooking Queries Analysis\n",
    "\n",
    "Returning to our cooking queries dataset to understand user intent patterns:"
   ]
  },
  {
   "cell_type": "code",
   "execution_count": 27,
   "id": "e9237895",
   "metadata": {},
   "outputs": [
    {
     "data": {
      "text/plain": [
       "(29557,)"
      ]
     },
     "execution_count": 27,
     "metadata": {},
     "output_type": "execute_result"
    }
   ],
   "source": [
    "df_queries[\"query\"].shape"
   ]
  },
  {
   "cell_type": "markdown",
   "id": "zt76pvkcyu",
   "metadata": {},
   "source": [
    "**Query dataset size**: 29,557 cooking-related queries providing diverse search intent patterns."
   ]
  },
  {
   "cell_type": "markdown",
   "id": "55be9ae0",
   "metadata": {},
   "source": [
    "## Key Insights & Query2Dish Model Implications\n",
    "\n",
    "### Dataset Complementarity\n",
    "\n",
    "Our exploration reveals four complementary datasets that together provide comprehensive food search capabilities:\n",
    "\n",
    "| Dataset | Scale | Strength | Use Case |\n",
    "|---------|-------|----------|----------|\n",
    "| **MM-Food-100K** | 100K images | Rich visual + metadata | Image-based food search |\n",
    "| **ESCI Food** | 9 examples (preview) | ESCI framework adaptation | Relevance labeling patterns |\n",
    "| **3A2M Recipes** | 2.2M recipes | Detailed cooking instructions | Recipe recommendations |\n",
    "| **Cooking Queries** | 29K queries | Natural language patterns | Query understanding |\n",
    "\n",
    "### Food-Specific ESCI Adaptations\n",
    "\n",
    "The ESCI food dataset demonstrates key enhancements for culinary search:\n",
    "\n",
    "1. **Multi-modal queries**: Support for both text and image queries\n",
    "2. **Food-specific similarity metrics**:\n",
    "   - Ingredient overlap (Jaccard similarity)\n",
    "   - Nutritional distance\n",
    "   - Visual appearance matching\n",
    "3. **Rich candidate metadata**: Nutritional profiles, cooking methods, ingredients\n",
    "4. **Domain expertise**: Human food annotators with culinary knowledge\n",
    "\n",
    "### Query2Dish Model Architecture Recommendations\n",
    "\n",
    "**Multi-Dataset Integration Strategy**:\n",
    "- **MM-Food-100K**: Primary candidate database with visual + metadata\n",
    "- **3A2M Recipes**: Extended candidate pool for recipe-specific queries  \n",
    "- **Cooking Queries**: Training data for query intent classification\n",
    "- **ESCI Food**: Relevance labeling methodology and feature engineering\n",
    "\n",
    "**Search Pipeline Design**:\n",
    "1. **Query Classification**: Identify intent type (recipe, definition, ingredient, etc.)\n",
    "2. **Candidate Retrieval**: Search appropriate dataset(s) based on query type\n",
    "3. **Multi-Modal Matching**: Combine text, visual, and nutritional similarity\n",
    "4. **ESCI Ranking**: Apply food-adapted ESCI framework for relevance scoring\n",
    "\n",
    "### Next Steps for Implementation\n",
    "\n",
    "1. **Data Integration**: Merge datasets with consistent schema\n",
    "2. **Feature Engineering**: Implement food-specific similarity metrics\n",
    "3. **Model Training**: Use cooking queries for intent classification\n",
    "4. **Evaluation Framework**: Adapt ESCI metrics for food domain validation\n",
    "\n",
    "The combination of these datasets provides a solid foundation for building a comprehensive food search system that handles diverse query types and leverages both visual and textual food information."
   ]
  },
  {
   "cell_type": "code",
   "execution_count": null,
   "id": "d6086226",
   "metadata": {},
   "outputs": [],
   "source": []
  }
 ],
 "metadata": {
  "kernelspec": {
   "display_name": "masala-embed",
   "language": "python",
   "name": "python3"
  },
  "language_info": {
   "codemirror_mode": {
    "name": "ipython",
    "version": 3
   },
   "file_extension": ".py",
   "mimetype": "text/x-python",
   "name": "python",
   "nbconvert_exporter": "python",
   "pygments_lexer": "ipython3",
   "version": "3.12.8"
  }
 },
 "nbformat": 4,
 "nbformat_minor": 5
}
