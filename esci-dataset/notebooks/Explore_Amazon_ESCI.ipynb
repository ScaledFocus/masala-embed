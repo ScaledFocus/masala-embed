{
 "cells": [
  {
   "cell_type": "code",
   "execution_count": 70,
   "id": "d36f4eba",
   "metadata": {},
   "outputs": [],
   "source": [
    "import os\n",
    "\n",
    "import pandas as pd\n",
    "\n",
    "pd.set_option(\"display.max_columns\", None)\n",
    "pd.set_option(\"display.max_colwidth\", None)"
   ]
  },
  {
   "cell_type": "markdown",
   "id": "xwe84n014ok",
   "metadata": {},
   "source": [
    "# Amazon ESCI Dataset Exploration\n",
    "\n",
    "This notebook explores the Amazon ESCI (E-commerce Search Click-through) dataset, which contains search queries and product relationships labeled for e-commerce relevance.\n",
    "\n",
    "## Dataset Overview\n",
    "\n",
    "The ESCI dataset contains:\n",
    "- **Shopping queries**: Real customer search queries\n",
    "- **Product candidates**: Products that could match each query\n",
    "- **ESCI labels**: Relevance labels (Exact, Substitute, Complement, Irrelevant)\n",
    "- **Product metadata**: Titles, descriptions, brands, colors, etc.\n",
    "\n",
    "The goal is to understand query-product relationships and explore patterns in the data for building Query2Dish food search models."
   ]
  },
  {
   "cell_type": "code",
   "execution_count": 71,
   "id": "6b41824d",
   "metadata": {},
   "outputs": [],
   "source": [
    "data_path = \"/Users/luvsuneja/Documents/repos/masala-embed/esci-dataset/data\""
   ]
  },
  {
   "cell_type": "markdown",
   "id": "j185pkhaix",
   "metadata": {},
   "source": [
    "## Data Loading\n",
    "\n",
    "Loading the three main components of the ESCI dataset:\n",
    "1. **Examples**: Query-product pairs with ESCI labels\n",
    "2. **Products**: Product metadata (titles, descriptions, brands)\n",
    "3. **Sources**: Query source information"
   ]
  },
  {
   "cell_type": "code",
   "execution_count": 6,
   "id": "df175a72",
   "metadata": {},
   "outputs": [],
   "source": [
    "examples_path = os.path.join(data_path, \"shopping_queries_dataset_examples.parquet\")\n",
    "\n",
    "df_examples = pd.read_parquet(examples_path)"
   ]
  },
  {
   "cell_type": "code",
   "execution_count": null,
   "id": "4452653e",
   "metadata": {},
   "outputs": [],
   "source": [
    "products_path = os.path.join(data_path, \"shopping_queries_dataset_products.parquet\")\n",
    "sources_path = os.path.join(data_path, \"shopping_queries_dataset_sources.csv\")\n",
    "\n",
    "df_products = pd.read_parquet(products_path)\n",
    "df_sources = pd.read_csv(sources_path)"
   ]
  },
  {
   "cell_type": "markdown",
   "id": "snyl0sjffmr",
   "metadata": {},
   "source": [
    "## Basic Dataset Exploration\n",
    "\n",
    "Let's examine the structure and characteristics of the examples dataset."
   ]
  },
  {
   "cell_type": "code",
   "execution_count": 72,
   "id": "a780169b",
   "metadata": {},
   "outputs": [
    {
     "data": {
      "text/html": [
       "<div>\n",
       "<style scoped>\n",
       "    .dataframe tbody tr th:only-of-type {\n",
       "        vertical-align: middle;\n",
       "    }\n",
       "\n",
       "    .dataframe tbody tr th {\n",
       "        vertical-align: top;\n",
       "    }\n",
       "\n",
       "    .dataframe thead th {\n",
       "        text-align: right;\n",
       "    }\n",
       "</style>\n",
       "<table border=\"1\" class=\"dataframe\">\n",
       "  <thead>\n",
       "    <tr style=\"text-align: right;\">\n",
       "      <th></th>\n",
       "      <th>example_id</th>\n",
       "      <th>query</th>\n",
       "      <th>query_id</th>\n",
       "      <th>product_id</th>\n",
       "      <th>product_locale</th>\n",
       "      <th>esci_label</th>\n",
       "      <th>small_version</th>\n",
       "      <th>large_version</th>\n",
       "      <th>split</th>\n",
       "    </tr>\n",
       "  </thead>\n",
       "  <tbody>\n",
       "    <tr>\n",
       "      <th>1263779</th>\n",
       "      <td>1263779</td>\n",
       "      <td>luces tocador maquillaje sin cable</td>\n",
       "      <td>64091</td>\n",
       "      <td>B085S3KX2T</td>\n",
       "      <td>es</td>\n",
       "      <td>S</td>\n",
       "      <td>1</td>\n",
       "      <td>1</td>\n",
       "      <td>train</td>\n",
       "    </tr>\n",
       "    <tr>\n",
       "      <th>971597</th>\n",
       "      <td>971597</td>\n",
       "      <td>hand statue gesture</td>\n",
       "      <td>48873</td>\n",
       "      <td>B07SKK3G4J</td>\n",
       "      <td>us</td>\n",
       "      <td>S</td>\n",
       "      <td>0</td>\n",
       "      <td>1</td>\n",
       "      <td>train</td>\n",
       "    </tr>\n",
       "    <tr>\n",
       "      <th>1135503</th>\n",
       "      <td>1135503</td>\n",
       "      <td>keyboard and mouse</td>\n",
       "      <td>57462</td>\n",
       "      <td>B0843MSWR3</td>\n",
       "      <td>us</td>\n",
       "      <td>E</td>\n",
       "      <td>0</td>\n",
       "      <td>1</td>\n",
       "      <td>train</td>\n",
       "    </tr>\n",
       "    <tr>\n",
       "      <th>2475248</th>\n",
       "      <td>2475248</td>\n",
       "      <td>ワイパー 復活</td>\n",
       "      <td>125041</td>\n",
       "      <td>B07N6JJRXK</td>\n",
       "      <td>jp</td>\n",
       "      <td>E</td>\n",
       "      <td>0</td>\n",
       "      <td>1</td>\n",
       "      <td>train</td>\n",
       "    </tr>\n",
       "    <tr>\n",
       "      <th>70630</th>\n",
       "      <td>70630</td>\n",
       "      <td>2 way mirror film for glass windows</td>\n",
       "      <td>2701</td>\n",
       "      <td>B083TBNCT6</td>\n",
       "      <td>us</td>\n",
       "      <td>S</td>\n",
       "      <td>1</td>\n",
       "      <td>1</td>\n",
       "      <td>train</td>\n",
       "    </tr>\n",
       "  </tbody>\n",
       "</table>\n",
       "</div>"
      ],
      "text/plain": [
       "         example_id                                query  query_id  \\\n",
       "1263779     1263779   luces tocador maquillaje sin cable     64091   \n",
       "971597       971597                  hand statue gesture     48873   \n",
       "1135503     1135503                   keyboard and mouse     57462   \n",
       "2475248     2475248                              ワイパー 復活    125041   \n",
       "70630         70630  2 way mirror film for glass windows      2701   \n",
       "\n",
       "         product_id product_locale esci_label  small_version  large_version  \\\n",
       "1263779  B085S3KX2T             es          S              1              1   \n",
       "971597   B07SKK3G4J             us          S              0              1   \n",
       "1135503  B0843MSWR3             us          E              0              1   \n",
       "2475248  B07N6JJRXK             jp          E              0              1   \n",
       "70630    B083TBNCT6             us          S              1              1   \n",
       "\n",
       "         split  \n",
       "1263779  train  \n",
       "971597   train  \n",
       "1135503  train  \n",
       "2475248  train  \n",
       "70630    train  "
      ]
     },
     "execution_count": 72,
     "metadata": {},
     "output_type": "execute_result"
    }
   ],
   "source": [
    "df_examples.sample(5)"
   ]
  },
  {
   "cell_type": "code",
   "execution_count": 75,
   "id": "a99f51bf",
   "metadata": {},
   "outputs": [
    {
     "data": {
      "text/plain": [
       "(2621288, 9)"
      ]
     },
     "execution_count": 75,
     "metadata": {},
     "output_type": "execute_result"
    }
   ],
   "source": [
    "df_examples.shape"
   ]
  },
  {
   "cell_type": "code",
   "execution_count": 73,
   "id": "3c4fb4db",
   "metadata": {},
   "outputs": [
    {
     "data": {
      "text/plain": [
       "130652"
      ]
     },
     "execution_count": 73,
     "metadata": {},
     "output_type": "execute_result"
    }
   ],
   "source": [
    "df_examples[\"query_id\"].nunique()"
   ]
  },
  {
   "cell_type": "code",
   "execution_count": 77,
   "id": "6582a99c",
   "metadata": {},
   "outputs": [
    {
     "data": {
      "text/plain": [
       "1802772"
      ]
     },
     "execution_count": 77,
     "metadata": {},
     "output_type": "execute_result"
    }
   ],
   "source": [
    "df_examples[\"product_id\"].nunique()"
   ]
  },
  {
   "cell_type": "code",
   "execution_count": 76,
   "id": "cf4eff7d",
   "metadata": {},
   "outputs": [
    {
     "data": {
      "text/plain": [
       "(1814924, 7)"
      ]
     },
     "execution_count": 76,
     "metadata": {},
     "output_type": "execute_result"
    }
   ],
   "source": [
    "df_products.shape"
   ]
  },
  {
   "cell_type": "markdown",
   "id": "01daef34",
   "metadata": {},
   "source": [
    "There are over 130,000 unique queries in total. There are 2.6M query-product pairs (examples) with ESCI labels.\n",
    "130K queries link to 1.8M unique products."
   ]
  },
  {
   "cell_type": "code",
   "execution_count": 74,
   "id": "bd0f6d26",
   "metadata": {},
   "outputs": [
    {
     "data": {
      "text/plain": [
       "query_id  product_id\n",
       "0         B000MOO21W    1\n",
       "89110     B07K576WMS    1\n",
       "          B06Y3RWQX3    1\n",
       "          B071JHYZSW    1\n",
       "          B0761W53CP    1\n",
       "                       ..\n",
       "43768     B07NS59LMG    1\n",
       "          B07PW4S53H    1\n",
       "          B07TV36FL2    1\n",
       "          B07VG79RSX    1\n",
       "130651    B07R536DG1    1\n",
       "Name: count, Length: 2621288, dtype: int64"
      ]
     },
     "execution_count": 74,
     "metadata": {},
     "output_type": "execute_result"
    }
   ],
   "source": [
    "df_examples.value_counts([\"query_id\", \"product_id\"])"
   ]
  },
  {
   "cell_type": "code",
   "execution_count": 49,
   "id": "ec3cd4c7",
   "metadata": {},
   "outputs": [
    {
     "data": {
      "text/plain": [
       "query_id\n",
       "105870    198\n",
       "7534      188\n",
       "59894     167\n",
       "92730     158\n",
       "83411     136\n",
       "         ... \n",
       "8483        8\n",
       "90734       8\n",
       "71372       8\n",
       "116008      8\n",
       "17811       8\n",
       "Name: count, Length: 130652, dtype: int64"
      ]
     },
     "execution_count": 49,
     "metadata": {},
     "output_type": "execute_result"
    }
   ],
   "source": [
    "df_examples[\"query_id\"].value_counts()"
   ]
  },
  {
   "cell_type": "markdown",
   "id": "019c6a80",
   "metadata": {},
   "source": [
    "As we can see, some queries have many associated products while others have very few. This long-tail distribution is common in search datasets."
   ]
  },
  {
   "cell_type": "markdown",
   "id": "usgkmwtzpy7",
   "metadata": {},
   "source": [
    "### ESCI Label Distribution\n",
    "\n",
    "Understanding the distribution of ESCI labels:\n",
    "- **E (Exact)**: Product exactly matches the query intent\n",
    "- **S (Substitute)**: Product serves as a substitute for the query intent  \n",
    "- **C (Complement)**: Product complements/accessorizes the query intent\n",
    "- **I (Irrelevant)**: Product doesn't match the query intent"
   ]
  },
  {
   "cell_type": "code",
   "execution_count": 50,
   "id": "23d09da3",
   "metadata": {},
   "outputs": [
    {
     "data": {
      "text/plain": [
       "esci_label\n",
       "E    0.651648\n",
       "S    0.219096\n",
       "I    0.100395\n",
       "C    0.028861\n",
       "Name: proportion, dtype: float64"
      ]
     },
     "execution_count": 50,
     "metadata": {},
     "output_type": "execute_result"
    }
   ],
   "source": [
    "df_examples[\"esci_label\"].value_counts(normalize=True)"
   ]
  },
  {
   "cell_type": "markdown",
   "id": "8b45d87e",
   "metadata": {},
   "source": [
    "Distribution of ESCI labels shows a significant portion of Irrelevant products, which is expected in a search scenario. Exact matches are less common, while Substitutes and Complements provide valuable alternatives."
   ]
  },
  {
   "cell_type": "code",
   "execution_count": 51,
   "id": "48b84cc0",
   "metadata": {},
   "outputs": [
    {
     "data": {
      "text/html": [
       "<div>\n",
       "<style scoped>\n",
       "    .dataframe tbody tr th:only-of-type {\n",
       "        vertical-align: middle;\n",
       "    }\n",
       "\n",
       "    .dataframe tbody tr th {\n",
       "        vertical-align: top;\n",
       "    }\n",
       "\n",
       "    .dataframe thead th {\n",
       "        text-align: right;\n",
       "    }\n",
       "</style>\n",
       "<table border=\"1\" class=\"dataframe\">\n",
       "  <thead>\n",
       "    <tr style=\"text-align: right;\">\n",
       "      <th></th>\n",
       "      <th>product_id</th>\n",
       "      <th>product_title</th>\n",
       "      <th>product_description</th>\n",
       "      <th>product_bullet_point</th>\n",
       "      <th>product_brand</th>\n",
       "      <th>product_color</th>\n",
       "      <th>product_locale</th>\n",
       "    </tr>\n",
       "  </thead>\n",
       "  <tbody>\n",
       "    <tr>\n",
       "      <th>0</th>\n",
       "      <td>B079VKKJN7</td>\n",
       "      <td>11 Degrees de los Hombres Playera con Logo, Negro, L</td>\n",
       "      <td>Esta playera con el logo de la marca Carrier de 11 Degrees viene en negro, con el logo de la marca en el pecho y un pequeño texto en la parte posterior. La camiseta tiene cuello redondo y manga corta.</td>\n",
       "      <td>11 Degrees Negro Playera con logo\\nA estrenar y genuina. Somos un vendedor autorizado de 11 Degrees.\\nVer descripción del producto para obtener más información.</td>\n",
       "      <td>11 Degrees</td>\n",
       "      <td>Negro</td>\n",
       "      <td>es</td>\n",
       "    </tr>\n",
       "    <tr>\n",
       "      <th>1</th>\n",
       "      <td>B079Y9VRKS</td>\n",
       "      <td>Camiseta Eleven Degrees Core TS White (M)</td>\n",
       "      <td>None</td>\n",
       "      <td>None</td>\n",
       "      <td>11 Degrees</td>\n",
       "      <td>Blanco</td>\n",
       "      <td>es</td>\n",
       "    </tr>\n",
       "    <tr>\n",
       "      <th>2</th>\n",
       "      <td>B07DP4LM9H</td>\n",
       "      <td>11 Degrees de los Hombres Core Pull Over Hoodie, Azul, S</td>\n",
       "      <td>La sudadera con capucha Core Pull Over de 11 Grados viene en color azul marino, con una capucha ajustable con cordones. Con un bolsillo en la parte delantera, esta sudadera con capucha para hombre tiene un logotipo de goma en la parte delantera y ojales de marca.</td>\n",
       "      <td>11 Degrees Azul Core Pull Over Hoodie\\nA estrenar y genuina. Somos un vendedor autorizado de 11 Degrees.\\nVer descripción del producto para obtener más información.</td>\n",
       "      <td>11 Degrees</td>\n",
       "      <td>Azul</td>\n",
       "      <td>es</td>\n",
       "    </tr>\n",
       "    <tr>\n",
       "      <th>3</th>\n",
       "      <td>B07G37B9HP</td>\n",
       "      <td>11 Degrees Poli Panel Track Pant XL Black</td>\n",
       "      <td>None</td>\n",
       "      <td>None</td>\n",
       "      <td>11 Degrees</td>\n",
       "      <td>None</td>\n",
       "      <td>es</td>\n",
       "    </tr>\n",
       "    <tr>\n",
       "      <th>4</th>\n",
       "      <td>B07LCTGDHY</td>\n",
       "      <td>11 Degrees Gorra Trucker Negro OSFA (Talla única para Todos sexos)</td>\n",
       "      <td>None</td>\n",
       "      <td>None</td>\n",
       "      <td>11 Degrees</td>\n",
       "      <td>Negro (</td>\n",
       "      <td>es</td>\n",
       "    </tr>\n",
       "  </tbody>\n",
       "</table>\n",
       "</div>"
      ],
      "text/plain": [
       "   product_id  \\\n",
       "0  B079VKKJN7   \n",
       "1  B079Y9VRKS   \n",
       "2  B07DP4LM9H   \n",
       "3  B07G37B9HP   \n",
       "4  B07LCTGDHY   \n",
       "\n",
       "                                                        product_title  \\\n",
       "0                11 Degrees de los Hombres Playera con Logo, Negro, L   \n",
       "1                           Camiseta Eleven Degrees Core TS White (M)   \n",
       "2            11 Degrees de los Hombres Core Pull Over Hoodie, Azul, S   \n",
       "3                           11 Degrees Poli Panel Track Pant XL Black   \n",
       "4  11 Degrees Gorra Trucker Negro OSFA (Talla única para Todos sexos)   \n",
       "\n",
       "                                                                                                                                                                                                                                                       product_description  \\\n",
       "0                                                                 Esta playera con el logo de la marca Carrier de 11 Degrees viene en negro, con el logo de la marca en el pecho y un pequeño texto en la parte posterior. La camiseta tiene cuello redondo y manga corta.   \n",
       "1                                                                                                                                                                                                                                                                     None   \n",
       "2  La sudadera con capucha Core Pull Over de 11 Grados viene en color azul marino, con una capucha ajustable con cordones. Con un bolsillo en la parte delantera, esta sudadera con capucha para hombre tiene un logotipo de goma en la parte delantera y ojales de marca.   \n",
       "3                                                                                                                                                                                                                                                                     None   \n",
       "4                                                                                                                                                                                                                                                                     None   \n",
       "\n",
       "                                                                                                                                                   product_bullet_point  \\\n",
       "0      11 Degrees Negro Playera con logo\\nA estrenar y genuina. Somos un vendedor autorizado de 11 Degrees.\\nVer descripción del producto para obtener más información.   \n",
       "1                                                                                                                                                                  None   \n",
       "2  11 Degrees Azul Core Pull Over Hoodie\\nA estrenar y genuina. Somos un vendedor autorizado de 11 Degrees.\\nVer descripción del producto para obtener más información.   \n",
       "3                                                                                                                                                                  None   \n",
       "4                                                                                                                                                                  None   \n",
       "\n",
       "  product_brand product_color product_locale  \n",
       "0    11 Degrees         Negro             es  \n",
       "1    11 Degrees        Blanco             es  \n",
       "2    11 Degrees          Azul             es  \n",
       "3    11 Degrees          None             es  \n",
       "4    11 Degrees       Negro (             es  "
      ]
     },
     "execution_count": 51,
     "metadata": {},
     "output_type": "execute_result"
    }
   ],
   "source": [
    "df_products.head()"
   ]
  },
  {
   "cell_type": "code",
   "execution_count": 52,
   "id": "8d7c5c19",
   "metadata": {},
   "outputs": [
    {
     "data": {
      "text/plain": [
       "source\n",
       "other            113656\n",
       "negations          6964\n",
       "parse_pattern      6083\n",
       "behavioral         3780\n",
       "nlqec               169\n",
       "Name: count, dtype: int64"
      ]
     },
     "execution_count": 52,
     "metadata": {},
     "output_type": "execute_result"
    }
   ],
   "source": [
    "df_sources[\"source\"].value_counts()"
   ]
  },
  {
   "cell_type": "markdown",
   "id": "46lf3aawn0s",
   "metadata": {},
   "source": [
    "### Example Queries and Products\n",
    "\n",
    "Here are some example queries along with their associated products and ESCI labels:"
   ]
  },
  {
   "cell_type": "code",
   "execution_count": 15,
   "id": "e378cb39",
   "metadata": {},
   "outputs": [],
   "source": [
    "df_examples_products = pd.merge(\n",
    "    df_examples,\n",
    "    df_products,\n",
    "    how=\"left\",\n",
    "    left_on=[\"product_locale\", \"product_id\"],\n",
    "    right_on=[\"product_locale\", \"product_id\"],\n",
    ")"
   ]
  },
  {
   "cell_type": "code",
   "execution_count": 18,
   "id": "6b6c2963",
   "metadata": {},
   "outputs": [
    {
     "data": {
      "text/plain": [
       "(2621288, 14)"
      ]
     },
     "execution_count": 18,
     "metadata": {},
     "output_type": "execute_result"
    }
   ],
   "source": [
    "df_examples_products.shape"
   ]
  },
  {
   "cell_type": "code",
   "execution_count": 49,
   "id": "906bce39",
   "metadata": {},
   "outputs": [
    {
     "data": {
      "text/plain": [
       "example_id                                                                                                                                                                                                                                                                                                                                                        1150115\n",
       "query                                                                                                                                                                                                                                                                                                                                               king and queen crowns\n",
       "query_id                                                                                                                                                                                                                                                                                                                                                            58258\n",
       "product_id                                                                                                                                                                                                                                                                                                                                                     B079HD2PJ8\n",
       "product_locale                                                                                                                                                                                                                                                                                                                                                         us\n",
       "esci_label                                                                                                                                                                                                                                                                                                                                                              S\n",
       "small_version                                                                                                                                                                                                                                                                                                                                                           1\n",
       "large_version                                                                                                                                                                                                                                                                                                                                                           1\n",
       "split                                                                                                                                                                                                                                                                                                                                                               train\n",
       "product_title                                                                                                                                                                                                                                                                                                           ifavor123 Gold Plastic Royal King Queen Crown (1)\n",
       "product_description                                                                                                                                                                                                                                                                                                                                                  None\n",
       "product_bullet_point    Includes 1 crown\\nEach crown measures: 4.6 x 7.9 x 7.9 inches\\nUnisex - for both king or queen, prince or princess\\nSoft foam lining inside each crown, giving it a comfort fit for both adults and kids\\nGreat for birthday parties, Mardi Gras, Halloween, theatrical productions/role playing or simply to become a king or queen for the day!\n",
       "product_brand                                                                                                                                                                                                                                                                                                                                                   ifavor123\n",
       "product_color                                                                                                                                                                                                                                                                                                                                                        Gold\n",
       "Name: 1150115, dtype: object"
      ]
     },
     "execution_count": 49,
     "metadata": {},
     "output_type": "execute_result"
    }
   ],
   "source": [
    "df_examples_products.sample(1).iloc[0]"
   ]
  },
  {
   "cell_type": "code",
   "execution_count": 53,
   "id": "677b6ef2",
   "metadata": {},
   "outputs": [
    {
     "data": {
      "text/html": [
       "<div>\n",
       "<style scoped>\n",
       "    .dataframe tbody tr th:only-of-type {\n",
       "        vertical-align: middle;\n",
       "    }\n",
       "\n",
       "    .dataframe tbody tr th {\n",
       "        vertical-align: top;\n",
       "    }\n",
       "\n",
       "    .dataframe thead th {\n",
       "        text-align: right;\n",
       "    }\n",
       "</style>\n",
       "<table border=\"1\" class=\"dataframe\">\n",
       "  <thead>\n",
       "    <tr style=\"text-align: right;\">\n",
       "      <th></th>\n",
       "      <th>query</th>\n",
       "      <th>product_title</th>\n",
       "    </tr>\n",
       "  </thead>\n",
       "  <tbody>\n",
       "    <tr>\n",
       "      <th>1974145</th>\n",
       "      <td>tea tea</td>\n",
       "      <td>Ito En Oi Ocha Cold Brew Matcha Green Tea Unsweetened 16.9 Ounce (Pack of 12), Zero Calories</td>\n",
       "    </tr>\n",
       "    <tr>\n",
       "      <th>1650876</th>\n",
       "      <td>pull out sofa bed</td>\n",
       "      <td>GIA Tri-Fold Sofa Bed, With Pillow, Light Gray</td>\n",
       "    </tr>\n",
       "    <tr>\n",
       "      <th>1159801</th>\n",
       "      <td>kleenex cube box tissues</td>\n",
       "      <td>Kleenex Professional Facial Tissue Cube for Business (21271), Upright Face Tissue Box, 6 Boxes of 95 sheets (Pack of 570)</td>\n",
       "    </tr>\n",
       "    <tr>\n",
       "      <th>2574509</th>\n",
       "      <td>絆創膏 目立たない</td>\n",
       "      <td>ニチバン 低刺激巻ばんそう膏 スキナゲート 25mm幅 7m巻き 1巻入り</td>\n",
       "    </tr>\n",
       "    <tr>\n",
       "      <th>2557701</th>\n",
       "      <td>爪切り カバーなし</td>\n",
       "      <td>爪切り ニッパー式 KIMINO ステンレス製 滑り止め 厚い爪/変形爪/巻き爪に最適 爪やすり ゾンデ付き【3点セット】</td>\n",
       "    </tr>\n",
       "  </tbody>\n",
       "</table>\n",
       "</div>"
      ],
      "text/plain": [
       "                            query  \\\n",
       "1974145                   tea tea   \n",
       "1650876         pull out sofa bed   \n",
       "1159801  kleenex cube box tissues   \n",
       "2574509                 絆創膏 目立たない   \n",
       "2557701                 爪切り カバーなし   \n",
       "\n",
       "                                                                                                                     product_title  \n",
       "1974145                               Ito En Oi Ocha Cold Brew Matcha Green Tea Unsweetened 16.9 Ounce (Pack of 12), Zero Calories  \n",
       "1650876                                                                             GIA Tri-Fold Sofa Bed, With Pillow, Light Gray  \n",
       "1159801  Kleenex Professional Facial Tissue Cube for Business (21271), Upright Face Tissue Box, 6 Boxes of 95 sheets (Pack of 570)  \n",
       "2574509                                                                                      ニチバン 低刺激巻ばんそう膏 スキナゲート 25mm幅 7m巻き 1巻入り  \n",
       "2557701                                                              爪切り ニッパー式 KIMINO ステンレス製 滑り止め 厚い爪/変形爪/巻き爪に最適 爪やすり ゾンデ付き【3点セット】  "
      ]
     },
     "execution_count": 53,
     "metadata": {},
     "output_type": "execute_result"
    }
   ],
   "source": [
    "df_examples_products.loc[df_examples_products[\"esci_label\"] == \"S\"].sample(5)[\n",
    "    [\"query\", \"product_title\"]\n",
    "]"
   ]
  },
  {
   "cell_type": "markdown",
   "id": "2d8e8264",
   "metadata": {},
   "source": [
    "### Query Sources\n",
    "Understanding where the queries originate from helps assess data quality and diversity."
   ]
  },
  {
   "cell_type": "code",
   "execution_count": 55,
   "id": "bea06dab",
   "metadata": {},
   "outputs": [],
   "source": [
    "df_examples_products_source = pd.merge(\n",
    "    df_examples_products,\n",
    "    df_sources,\n",
    "    how=\"left\",\n",
    "    left_on=[\"query_id\"],\n",
    "    right_on=[\"query_id\"],\n",
    ")"
   ]
  },
  {
   "cell_type": "code",
   "execution_count": 56,
   "id": "d46ec550",
   "metadata": {},
   "outputs": [
    {
     "data": {
      "text/plain": [
       "Index(['example_id', 'query', 'query_id', 'product_id', 'product_locale',\n",
       "       'esci_label', 'small_version', 'large_version', 'split',\n",
       "       'product_title', 'product_description', 'product_bullet_point',\n",
       "       'product_brand', 'product_color', 'source'],\n",
       "      dtype='object')"
      ]
     },
     "execution_count": 56,
     "metadata": {},
     "output_type": "execute_result"
    }
   ],
   "source": [
    "df_examples_products_source.columns"
   ]
  },
  {
   "cell_type": "code",
   "execution_count": 68,
   "id": "afeaaef9",
   "metadata": {},
   "outputs": [
    {
     "data": {
      "text/plain": [
       "source\n",
       "other            113656\n",
       "negations          6964\n",
       "parse_pattern      6083\n",
       "behavioral         3780\n",
       "nlqec               169\n",
       "Name: count, dtype: int64"
      ]
     },
     "execution_count": 68,
     "metadata": {},
     "output_type": "execute_result"
    }
   ],
   "source": [
    "df_sources[\"source\"].value_counts()"
   ]
  },
  {
   "cell_type": "code",
   "execution_count": 66,
   "id": "702f1578",
   "metadata": {},
   "outputs": [
    {
     "data": {
      "text/html": [
       "<div>\n",
       "<style scoped>\n",
       "    .dataframe tbody tr th:only-of-type {\n",
       "        vertical-align: middle;\n",
       "    }\n",
       "\n",
       "    .dataframe tbody tr th {\n",
       "        vertical-align: top;\n",
       "    }\n",
       "\n",
       "    .dataframe thead th {\n",
       "        text-align: right;\n",
       "    }\n",
       "</style>\n",
       "<table border=\"1\" class=\"dataframe\">\n",
       "  <thead>\n",
       "    <tr style=\"text-align: right;\">\n",
       "      <th></th>\n",
       "      <th>query_id</th>\n",
       "      <th>source</th>\n",
       "    </tr>\n",
       "  </thead>\n",
       "  <tbody>\n",
       "    <tr>\n",
       "      <th>2371451</th>\n",
       "      <td>120476</td>\n",
       "      <td>other</td>\n",
       "    </tr>\n",
       "    <tr>\n",
       "      <th>1162467</th>\n",
       "      <td>58886</td>\n",
       "      <td>other</td>\n",
       "    </tr>\n",
       "    <tr>\n",
       "      <th>2569615</th>\n",
       "      <td>128674</td>\n",
       "      <td>negations</td>\n",
       "    </tr>\n",
       "    <tr>\n",
       "      <th>1641481</th>\n",
       "      <td>83643</td>\n",
       "      <td>parse_pattern</td>\n",
       "    </tr>\n",
       "    <tr>\n",
       "      <th>953274</th>\n",
       "      <td>47931</td>\n",
       "      <td>other</td>\n",
       "    </tr>\n",
       "  </tbody>\n",
       "</table>\n",
       "</div>"
      ],
      "text/plain": [
       "         query_id         source\n",
       "2371451    120476          other\n",
       "1162467     58886          other\n",
       "2569615    128674      negations\n",
       "1641481     83643  parse_pattern\n",
       "953274      47931          other"
      ]
     },
     "execution_count": 66,
     "metadata": {},
     "output_type": "execute_result"
    }
   ],
   "source": [
    "df_examples_products_source[[\"query_id\", \"source\"]].sample(5)"
   ]
  },
  {
   "cell_type": "code",
   "execution_count": 57,
   "id": "5944b961",
   "metadata": {},
   "outputs": [
    {
     "data": {
      "text/plain": [
       "query_id  source   \n",
       "105870    other        198\n",
       "7534      other        188\n",
       "59894     other        167\n",
       "92730     other        158\n",
       "83411     other        136\n",
       "                      ... \n",
       "8483      other          8\n",
       "90734     other          8\n",
       "71372     other          8\n",
       "116008    negations      8\n",
       "17811     other          8\n",
       "Name: count, Length: 130652, dtype: int64"
      ]
     },
     "execution_count": 57,
     "metadata": {},
     "output_type": "execute_result"
    }
   ],
   "source": [
    "df_examples_products_source.value_counts([\"query_id\", \"source\"])"
   ]
  },
  {
   "cell_type": "markdown",
   "id": "yys8z35n6j",
   "metadata": {},
   "source": [
    "### Sample Substitute Relationships\n",
    "\n",
    "Let's examine some examples of **Substitute** relationships to understand how products can serve as alternatives to query intent."
   ]
  },
  {
   "cell_type": "code",
   "execution_count": 20,
   "id": "82cb9319",
   "metadata": {},
   "outputs": [
    {
     "data": {
      "text/plain": [
       "query_id\n",
       "105870    198\n",
       "7534      188\n",
       "59894     167\n",
       "92730     158\n",
       "83411     136\n",
       "         ... \n",
       "8483        8\n",
       "90734       8\n",
       "71372       8\n",
       "116008      8\n",
       "17811       8\n",
       "Name: count, Length: 130652, dtype: int64"
      ]
     },
     "execution_count": 20,
     "metadata": {},
     "output_type": "execute_result"
    }
   ],
   "source": [
    "df_examples_products[\"query_id\"].value_counts()"
   ]
  },
  {
   "cell_type": "code",
   "execution_count": null,
   "id": "fef2fae9",
   "metadata": {},
   "outputs": [],
   "source": [
    "# Explore query frequency distribution in the merged dataset\n",
    "print(\"Query frequency distribution:\")\n",
    "print(df_examples_products[\"query_id\"].value_counts().describe())\n",
    "print(\"\\nTop 10 queries by frequency:\")\n",
    "top_queries = df_examples_products[\"query_id\"].value_counts().head(10)\n",
    "print(top_queries)\n",
    "\n",
    "# Show actual query text for top queries\n",
    "print(\"\\nTop queries with their text:\")\n",
    "for query_id in top_queries.index:\n",
    "    query_text = df_examples_products[df_examples_products[\"query_id\"] == query_id][\n",
    "        \"query\"\n",
    "    ].iloc[0]\n",
    "    count = top_queries[query_id]\n",
    "    print(f\"Query ID {query_id}: '{query_text}' ({count} products)\")\n",
    "\n",
    "# Check distribution of ESCI labels for top query\n",
    "print(f\"\\nESCI label distribution for top query (ID: {top_queries.index[0]}):\")\n",
    "top_query_data = df_examples_products[\n",
    "    df_examples_products[\"query_id\"] == top_queries.index[0]\n",
    "]\n",
    "print(top_query_data[\"esci_label\"].value_counts(normalize=True))"
   ]
  },
  {
   "cell_type": "markdown",
   "id": "i1ehg7m1yob",
   "metadata": {},
   "source": [
    "## Query Frequency Analysis\n",
    "\n",
    "Understanding the distribution of queries and their associated products is crucial for building effective search models. Some queries may have many candidate products while others have few."
   ]
  },
  {
   "cell_type": "code",
   "execution_count": 23,
   "id": "ed7j147tk36",
   "metadata": {},
   "outputs": [
    {
     "data": {
      "image/png": "[encoded data removed]",
      "text/plain": [
       "<Figure size 1200x600 with 2 Axes>"
      ]
     },
     "metadata": {},
     "output_type": "display_data"
    },
    {
     "name": "stdout",
     "output_type": "stream",
     "text": [
      "Total queries: 130652\n",
      "Mean products per query: 20.06\n",
      "Median products per query: 16.00\n",
      "Max products per query: 198\n",
      "Min products per query: 8\n"
     ]
    }
   ],
   "source": [
    "import matplotlib.pyplot as plt\n",
    "\n",
    "# Draw histogram of query frequencies\n",
    "query_counts = df_examples_products[\"query_id\"].value_counts()\n",
    "\n",
    "plt.figure(figsize=(12, 6))\n",
    "\n",
    "# Histogram of query frequencies\n",
    "plt.subplot(1, 2, 1)\n",
    "plt.hist(query_counts, bins=50, edgecolor=\"black\", alpha=0.7)\n",
    "plt.title(\"Distribution of Query Frequencies\")\n",
    "plt.xlabel(\"Number of Products per Query\")\n",
    "plt.ylabel(\"Number of Queries\")\n",
    "plt.yscale(\"log\")\n",
    "\n",
    "# Box plot for better understanding of distribution\n",
    "plt.subplot(1, 2, 2)\n",
    "plt.boxplot(query_counts, vert=True)\n",
    "plt.title(\"Box Plot of Query Frequencies\")\n",
    "plt.ylabel(\"Number of Products per Query\")\n",
    "\n",
    "plt.tight_layout()\n",
    "plt.show()\n",
    "\n",
    "print(f\"Total queries: {len(query_counts)}\")\n",
    "print(f\"Mean products per query: {query_counts.mean():.2f}\")\n",
    "print(f\"Median products per query: {query_counts.median():.2f}\")\n",
    "print(f\"Max products per query: {query_counts.max()}\")\n",
    "print(f\"Min products per query: {query_counts.min()}\")"
   ]
  },
  {
   "cell_type": "markdown",
   "id": "w72qoizpyp",
   "metadata": {},
   "source": [
    "### Query Frequency Visualization\n",
    "\n",
    "The histogram shows the distribution of how many products are associated with each query. Most queries have relatively few products, while some popular queries have many candidates."
   ]
  },
  {
   "cell_type": "code",
   "execution_count": null,
   "id": "2wwdg5jm368",
   "metadata": {},
   "outputs": [],
   "source": [
    "# Print histogram bin counts\n",
    "query_counts = df_examples_products[\"query_id\"].value_counts()\n",
    "\n",
    "# Create histogram and get bin info\n",
    "counts, bins, patches = plt.hist(query_counts, bins=50, alpha=0)\n",
    "plt.close()  # Close the plot we don't want to show\n",
    "\n",
    "print(\"Histogram bin analysis:\")\n",
    "print(\"Bin Range\\t\\tCount of Queries\")\n",
    "print(\"-\" * 40)\n",
    "\n",
    "for i in range(len(counts)):\n",
    "    bin_start = int(bins[i])\n",
    "    bin_end = int(bins[i + 1])\n",
    "    count = int(counts[i])\n",
    "    print(f\"{bin_start:3d} - {bin_end:3d}\\t\\t{count}\")\n",
    "\n",
    "print(f\"\\nTotal bins: {len(counts)}\")\n",
    "print(f\"Total queries across all bins: {sum(counts)}\")\n",
    "\n",
    "# Also show percentile breakdown\n",
    "print(\"\\nPercentile breakdown:\")\n",
    "percentiles = [10, 25, 50, 75, 90, 95, 99]\n",
    "for p in percentiles:\n",
    "    value = query_counts.quantile(p / 100)\n",
    "    print(f\"{p}th percentile: {value:.1f} products per query\")"
   ]
  },
  {
   "cell_type": "markdown",
   "id": "p44fazoqlh8",
   "metadata": {},
   "source": [
    "### Histogram Bin Analysis\n",
    "\n",
    "This detailed breakdown shows exactly how many queries fall into each frequency range, helping us understand the long-tail distribution of query popularity."
   ]
  },
  {
   "cell_type": "code",
   "execution_count": null,
   "id": "ms6dymfg1z",
   "metadata": {},
   "outputs": [],
   "source": [
    "# Create dataframe with top 5 queries\n",
    "top_5_query_ids = df_examples_products[\"query_id\"].value_counts().head(5).index\n",
    "\n",
    "# Filter for top 5 queries\n",
    "df_top_5_queries = df_examples_products[\n",
    "    df_examples_products[\"query_id\"].isin(top_5_query_ids)\n",
    "].copy()\n",
    "\n",
    "print(f\"Created df_top_5_queries with {len(df_top_5_queries)} rows\")\n",
    "print(f\"Queries included: {top_5_query_ids.tolist()}\")\n",
    "print(\"\\nQuery breakdown:\")\n",
    "for query_id in top_5_query_ids:\n",
    "    query_text = df_top_5_queries[df_top_5_queries[\"query_id\"] == query_id][\n",
    "        \"query\"\n",
    "    ].iloc[0]\n",
    "    count = len(df_top_5_queries[df_top_5_queries[\"query_id\"] == query_id])\n",
    "    print(f\"  {query_id}: '{query_text}' ({count} products)\")\n",
    "\n",
    "df_top_5_queries"
   ]
  },
  {
   "cell_type": "markdown",
   "id": "xrakd27p5x",
   "metadata": {},
   "source": [
    "## Key Insights & Next Steps\n",
    "\n",
    "### Key Findings:\n",
    "1. **Label Distribution**: ~65% Exact matches, ~22% Substitutes, ~10% Irrelevant, ~3% Complements\n",
    "2. **Query Frequency**: Highly skewed distribution with few queries having many products\n",
    "3. **Data Quality**: Mix of sources with majority being \"other\" category\n",
    "4. **Multilingual**: Includes queries in multiple languages (English, Spanish, Japanese)\n",
    "\n",
    "### For Query2Dish Model:\n",
    "- Focus on food-related queries and products\n",
    "- Understand substitute relationships for food items\n",
    "- Consider nutritional/cooking method similarities\n",
    "- Adapt ESCI framework for culinary context\n",
    "\n",
    "The `df_top_5_queries` dataframe is now available for further exploration of the most popular search patterns."
   ]
  },
  {
   "cell_type": "markdown",
   "id": "bkn2k3pleua",
   "metadata": {},
   "source": [
    "## Top Queries Deep Dive\n",
    "\n",
    "Focusing on the most popular queries to understand what types of searches generate the most product candidates and their ESCI label distributions."
   ]
  },
  {
   "cell_type": "code",
   "execution_count": 104,
   "id": "8438b8a6",
   "metadata": {},
   "outputs": [
    {
     "data": {
      "text/html": [
       "<div>\n",
       "<style scoped>\n",
       "    .dataframe tbody tr th:only-of-type {\n",
       "        vertical-align: middle;\n",
       "    }\n",
       "\n",
       "    .dataframe tbody tr th {\n",
       "        vertical-align: top;\n",
       "    }\n",
       "\n",
       "    .dataframe thead th {\n",
       "        text-align: right;\n",
       "    }\n",
       "</style>\n",
       "<table border=\"1\" class=\"dataframe\">\n",
       "  <thead>\n",
       "    <tr style=\"text-align: right;\">\n",
       "      <th></th>\n",
       "      <th>query</th>\n",
       "      <th>product_title</th>\n",
       "      <th>esci_label</th>\n",
       "    </tr>\n",
       "  </thead>\n",
       "  <tbody>\n",
       "    <tr>\n",
       "      <th>171642</th>\n",
       "      <td>airpods</td>\n",
       "      <td>RUOQINI Smartwatch Band with Case Compatiable for Apple Watch Band, Silicone Sport Band And TPU Case for Series 4/3/2/1,Pink Sand Band with Rose Pink Case in 40SM Size</td>\n",
       "      <td>I</td>\n",
       "    </tr>\n",
       "    <tr>\n",
       "      <th>171518</th>\n",
       "      <td>airpods</td>\n",
       "      <td>Single Earbuds Replacement with Detachable Ear Hooks for AirPods 2nd Generation R Right Side</td>\n",
       "      <td>S</td>\n",
       "    </tr>\n",
       "    <tr>\n",
       "      <th>1815665</th>\n",
       "      <td>shoes</td>\n",
       "      <td>New Balance Women's 890 V7 Running Shoe, White/Guava Glo/Bleached Lime Glo, 9.5 M US</td>\n",
       "      <td>E</td>\n",
       "    </tr>\n",
       "    <tr>\n",
       "      <th>171612</th>\n",
       "      <td>airpods</td>\n",
       "      <td>BRG for AirPods Case,Soft Cute Silicone Cover for Apple Airpods 2 &amp; 1 Cases with Pom Pom Fur Ball Keychain/Strap/Accessories for Women Girls (Front LED Visible) Light Pink</td>\n",
       "      <td>C</td>\n",
       "    </tr>\n",
       "    <tr>\n",
       "      <th>2066793</th>\n",
       "      <td>tv</td>\n",
       "      <td>SAMSUNG 55-Inch Class Crystal UHD TU-8000 Series - 4K UHD HDR Smart TV with Alexa Built-in (UN55TU8000FXZA, 2020 Model)</td>\n",
       "      <td>E</td>\n",
       "    </tr>\n",
       "  </tbody>\n",
       "</table>\n",
       "</div>"
      ],
      "text/plain": [
       "           query  \\\n",
       "171642   airpods   \n",
       "171518   airpods   \n",
       "1815665    shoes   \n",
       "171612   airpods   \n",
       "2066793       tv   \n",
       "\n",
       "                                                                                                                                                                       product_title  \\\n",
       "171642       RUOQINI Smartwatch Band with Case Compatiable for Apple Watch Band, Silicone Sport Band And TPU Case for Series 4/3/2/1,Pink Sand Band with Rose Pink Case in 40SM Size   \n",
       "171518                                                                                  Single Earbuds Replacement with Detachable Ear Hooks for AirPods 2nd Generation R Right Side   \n",
       "1815665                                                                                         New Balance Women's 890 V7 Running Shoe, White/Guava Glo/Bleached Lime Glo, 9.5 M US   \n",
       "171612   BRG for AirPods Case,Soft Cute Silicone Cover for Apple Airpods 2 & 1 Cases with Pom Pom Fur Ball Keychain/Strap/Accessories for Women Girls (Front LED Visible) Light Pink   \n",
       "2066793                                                      SAMSUNG 55-Inch Class Crystal UHD TU-8000 Series - 4K UHD HDR Smart TV with Alexa Built-in (UN55TU8000FXZA, 2020 Model)   \n",
       "\n",
       "        esci_label  \n",
       "171642           I  \n",
       "171518           S  \n",
       "1815665          E  \n",
       "171612           C  \n",
       "2066793          E  "
      ]
     },
     "execution_count": 104,
     "metadata": {},
     "output_type": "execute_result"
    }
   ],
   "source": [
    "df_top_5_queries[[\"query\", \"product_title\", \"esci_label\"]].sample(5)"
   ]
  },
  {
   "cell_type": "code",
   "execution_count": null,
   "id": "745e4eea",
   "metadata": {},
   "outputs": [],
   "source": []
  },
  {
   "cell_type": "code",
   "execution_count": 40,
   "id": "74000ac5",
   "metadata": {},
   "outputs": [
    {
     "data": {
      "text/plain": [
       "Index(['example_id', 'query', 'query_id', 'product_id', 'product_locale',\n",
       "       'esci_label', 'small_version', 'large_version', 'split',\n",
       "       'product_title', 'product_description', 'product_bullet_point',\n",
       "       'product_brand', 'product_color'],\n",
       "      dtype='object')"
      ]
     },
     "execution_count": 40,
     "metadata": {},
     "output_type": "execute_result"
    }
   ],
   "source": [
    "df_top_5_queries.columns"
   ]
  },
  {
   "cell_type": "code",
   "execution_count": null,
   "id": "4e19f4c5",
   "metadata": {},
   "outputs": [],
   "source": []
  }
 ],
 "metadata": {
  "kernelspec": {
   "display_name": "masala-embed",
   "language": "python",
   "name": "python3"
  },
  "language_info": {
   "codemirror_mode": {
    "name": "ipython",
    "version": 3
   },
   "file_extension": ".py",
   "mimetype": "text/x-python",
   "name": "python",
   "nbconvert_exporter": "python",
   "pygments_lexer": "ipython3",
   "version": "3.12.8"
  }
 },
 "nbformat": 4,
 "nbformat_minor": 5
}
