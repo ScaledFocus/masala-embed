{
 "cells": [
  {
   "cell_type": "code",
   "execution_count": 26,
   "id": "1230e408",
   "metadata": {},
   "outputs": [],
   "source": [
    "import pandas\n",
    "import os\n",
    "from schema import Labeler"
   ]
  },
  {
   "cell_type": "code",
   "execution_count": 27,
   "id": "fc962d05",
   "metadata": {},
   "outputs": [],
   "source": [
    "\n",
    "from supabase import create_client, Client\n",
    "from dotenv import load_dotenv\n",
    "import os\n"
   ]
  },
  {
   "cell_type": "code",
   "execution_count": 28,
   "id": "fe6b2155",
   "metadata": {},
   "outputs": [],
   "source": [
    "import supabase"
   ]
  },
  {
   "cell_type": "code",
   "execution_count": 29,
   "id": "c26ffed5",
   "metadata": {},
   "outputs": [
    {
     "data": {
      "text/plain": [
       "True"
      ]
     },
     "execution_count": 29,
     "metadata": {},
     "output_type": "execute_result"
    }
   ],
   "source": [
    "from dotenv import load_dotenv\n",
    "load_dotenv()"
   ]
  },
  {
   "cell_type": "markdown",
   "id": "67a78803",
   "metadata": {},
   "source": []
  },
  {
   "cell_type": "code",
   "execution_count": null,
   "id": "64a0c11b",
   "metadata": {},
   "outputs": [
    {
     "name": "stdout",
     "output_type": "stream",
     "text": [
      "Connection successful!\n",
      "(1, 'Luv', 'labeler', datetime.datetime(2025, 9, 17, 5, 32, 49, 648318, tzinfo=datetime.timezone.utc))\n",
      "(2, 'Nirant', 'labeler', datetime.datetime(2025, 9, 17, 5, 32, 49, 648318, tzinfo=datetime.timezone.utc))\n",
      "Inserted labeler kosh as supervisor.\n",
      "Current Time: (datetime.datetime(2025, 9, 17, 11, 47, 21, 191155, tzinfo=datetime.timezone.utc),)\n",
      "Connection closed.\n"
     ]
    }
   ],
   "source": [
    "import psycopg2\n",
    "from dotenv import load_dotenv\n",
    "import os\n",
    "\n",
    "# Load environment variables from .env\n",
    "load_dotenv()\n",
    "\n",
    "# Fetch variables\n",
    "USER = os.getenv(\"user\")\n",
    "PASSWORD = os.getenv(\"password\")\n",
    "HOST = os.getenv(\"host\")\n",
    "PORT = os.getenv(\"port\")\n",
    "DBNAME = os.getenv(\"dbname\")\n",
    "\n",
    "# Connect to the database\n",
    "try:\n",
    "    connection = psycopg2.connect(\n",
    "        user=USER,\n",
    "        password=PASSWORD,\n",
    "        host=HOST,\n",
    "        port=PORT,\n",
    "        dbname=DBNAME\n",
    "    )\n",
    "    print(\"Connection successful!\")\n",
    "    \n",
    "    # Create a cursor to execute SQL queries\n",
    "    cursor = connection.cursor()\n",
    "    \n",
    "    # Example query\n",
    "    cursor.execute(\"SELECT NOW();\")\n",
    "    result = cursor.fetchone()\n",
    "    cursor.execute(\"SELECT * FROM public.labeler;\")\n",
    "    rows = cursor.fetchall()\n",
    "    for row in rows:\n",
    "        print(row)\n",
    "    # cursor.execute(\n",
    "    #     \"INSERT INTO public.labeler (name, role) VALUES (%s, %s);\",\n",
    "    #     (\"Kush\", \"supervisor\")\n",
    "    # )\n",
    "    connection.commit()\n",
    "    print(\"Inserted labeler kosh as supervisor.\")\n",
    "    print(\"Current Time:\", result)\n",
    "\n",
    "    # Close the cursor and connection\n",
    "    cursor.close()\n",
    "    connection.close()\n",
    "    print(\"Connection closed.\")\n",
    "\n",
    "except Exception as e:\n",
    "    print(f\"Failed to connect: {e}\")"
   ]
  },
  {
   "cell_type": "code",
   "execution_count": null,
   "id": "21a21816",
   "metadata": {},
   "outputs": [],
   "source": []
  }
 ],
 "metadata": {
  "kernelspec": {
   "display_name": "masala-embed",
   "language": "python",
   "name": "python3"
  },
  "language_info": {
   "codemirror_mode": {
    "name": "ipython",
    "version": 3
   },
   "file_extension": ".py",
   "mimetype": "text/x-python",
   "name": "python",
   "nbconvert_exporter": "python",
   "pygments_lexer": "ipython3",
   "version": "3.12.8"
  }
 },
 "nbformat": 4,
 "nbformat_minor": 5
}
