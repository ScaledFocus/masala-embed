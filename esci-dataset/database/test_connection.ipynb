{
 "cells": [
  {
   "cell_type": "code",
   "execution_count": null,
   "id": "fc962d05",
   "metadata": {},
   "outputs": [],
   "source": [
    "import os\n",
    "\n",
    "import psycopg2\n",
    "from dotenv import load_dotenv\n",
    "load_dotenv()"
   ]
  },
  {
   "cell_type": "code",
   "execution_count": null,
   "id": "64a0c11b",
   "metadata": {},
   "outputs": [
    {
     "name": "stdout",
     "output_type": "stream",
     "text": [
      "Connection successful!\n",
      "(1, 'Luv', 'labeler', datetime.datetime(2025, 9, 17, 5, 32, 49, 648318, tzinfo=datetime.timezone.utc))\n",
      "(2, 'Nirant', 'labeler', datetime.datetime(2025, 9, 17, 5, 32, 49, 648318, tzinfo=datetime.timezone.utc))\n",
      "Inserted labeler kosh as supervisor.\n",
      "Current Time: (datetime.datetime(2025, 9, 17, 11, 47, 21, 191155, tzinfo=datetime.timezone.utc),)\n",
      "Connection closed.\n"
     ]
    }
   ],
   "source": [
    "# Load environment variables from .env\n",
    "load_dotenv()\n",
    "\n",
    "# Fetch variables\n",
    "USER = os.getenv(\"user\")\n",
    "PASSWORD = os.getenv(\"password\")\n",
    "HOST = os.getenv(\"host\")\n",
    "PORT = os.getenv(\"port\")\n",
    "DBNAME = os.getenv(\"dbname\")\n",
    "\n",
    "# Connect to the database\n",
    "try:\n",
    "    connection = psycopg2.connect(\n",
    "        user=USER, password=PASSWORD, host=HOST, port=PORT, dbname=DBNAME\n",
    "    )\n",
    "    print(\"Connection successful!\")\n",
    "\n",
    "    # Create a cursor to execute SQL queries\n",
    "    cursor = connection.cursor()\n",
    "\n",
    "    # Example query\n",
    "    cursor.execute(\"SELECT NOW();\")\n",
    "    result = cursor.fetchone()\n",
    "    cursor.execute(\"SELECT * FROM public.labeler;\")\n",
    "    rows = cursor.fetchall()\n",
    "    for row in rows:\n",
    "        print(row)\n",
    "    # cursor.execute(\n",
    "    #     \"INSERT INTO public.labeler (name, role) VALUES (%s, %s);\",\n",
    "    #     (\"Kush\", \"supervisor\")\n",
    "    # )\n",
    "    connection.commit()\n",
    "    print(\"Inserted labeler kosh as supervisor.\")\n",
    "    print(\"Current Time:\", result)\n",
    "\n",
    "    # Close the cursor and connection\n",
    "    cursor.close()\n",
    "    connection.close()\n",
    "    print(\"Connection closed.\")\n",
    "\n",
    "except Exception as e:\n",
    "    print(f\"Failed to connect: {e}\")"
   ]
  }
 ],
 "metadata": {
  "kernelspec": {
   "display_name": "masala-embed",
   "language": "python",
   "name": "python3"
  },
  "language_info": {
   "codemirror_mode": {
    "name": "ipython",
    "version": 3
   },
   "file_extension": ".py",
   "mimetype": "text/x-python",
   "name": "python",
   "nbconvert_exporter": "python",
   "pygments_lexer": "ipython3",
   "version": "3.12.8"
  }
 },
 "nbformat": 4,
 "nbformat_minor": 5
}
